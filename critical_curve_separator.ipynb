{
 "cells": [
  {
   "cell_type": "code",
   "execution_count": 88,
   "metadata": {},
   "outputs": [],
   "source": [
    "# Critical Curve Separator\n",
    "import numpy as np\n",
    "import matplotlib.pyplot as plt\n",
    "import pandas as pd\n",
    "from scipy import stats"
   ]
  },
  {
   "cell_type": "code",
   "execution_count": 197,
   "metadata": {},
   "outputs": [],
   "source": [
    "data_crit = pd.read_csv('POW/POW_POS_crit.dat', header= None, sep=\"\\s+\")\n",
    "data_crit.__dataframe__\n",
    "df = data_crit.iloc[1:]\n",
    "pix_size = 0.04\n",
    "df = df/pix_size"
   ]
  },
  {
   "cell_type": "code",
   "execution_count": 198,
   "metadata": {},
   "outputs": [
    {
     "data": {
      "text/html": [
       "<div>\n",
       "<style scoped>\n",
       "    .dataframe tbody tr th:only-of-type {\n",
       "        vertical-align: middle;\n",
       "    }\n",
       "\n",
       "    .dataframe tbody tr th {\n",
       "        vertical-align: top;\n",
       "    }\n",
       "\n",
       "    .dataframe thead th {\n",
       "        text-align: right;\n",
       "    }\n",
       "</style>\n",
       "<table border=\"1\" class=\"dataframe\">\n",
       "  <thead>\n",
       "    <tr style=\"text-align: right;\">\n",
       "      <th></th>\n",
       "      <th>0</th>\n",
       "      <th>1</th>\n",
       "      <th>2</th>\n",
       "      <th>3</th>\n",
       "      <th>4</th>\n",
       "      <th>5</th>\n",
       "      <th>6</th>\n",
       "      <th>7</th>\n",
       "    </tr>\n",
       "  </thead>\n",
       "  <tbody>\n",
       "    <tr>\n",
       "      <th>1</th>\n",
       "      <td>519.375</td>\n",
       "      <td>506.250</td>\n",
       "      <td>520.22075</td>\n",
       "      <td>518.58400</td>\n",
       "      <td>519.625</td>\n",
       "      <td>506.25</td>\n",
       "      <td>520.22250</td>\n",
       "      <td>518.59275</td>\n",
       "    </tr>\n",
       "    <tr>\n",
       "      <th>2</th>\n",
       "      <td>519.625</td>\n",
       "      <td>506.250</td>\n",
       "      <td>520.22250</td>\n",
       "      <td>518.59275</td>\n",
       "      <td>519.875</td>\n",
       "      <td>506.25</td>\n",
       "      <td>520.22375</td>\n",
       "      <td>518.59875</td>\n",
       "    </tr>\n",
       "    <tr>\n",
       "      <th>3</th>\n",
       "      <td>519.875</td>\n",
       "      <td>506.250</td>\n",
       "      <td>520.22375</td>\n",
       "      <td>518.59875</td>\n",
       "      <td>520.125</td>\n",
       "      <td>506.25</td>\n",
       "      <td>520.22475</td>\n",
       "      <td>518.60200</td>\n",
       "    </tr>\n",
       "    <tr>\n",
       "      <th>4</th>\n",
       "      <td>520.125</td>\n",
       "      <td>506.250</td>\n",
       "      <td>520.22475</td>\n",
       "      <td>518.60200</td>\n",
       "      <td>520.375</td>\n",
       "      <td>506.25</td>\n",
       "      <td>520.22575</td>\n",
       "      <td>518.60250</td>\n",
       "    </tr>\n",
       "    <tr>\n",
       "      <th>5</th>\n",
       "      <td>520.375</td>\n",
       "      <td>506.250</td>\n",
       "      <td>520.22575</td>\n",
       "      <td>518.60250</td>\n",
       "      <td>520.625</td>\n",
       "      <td>506.25</td>\n",
       "      <td>520.22700</td>\n",
       "      <td>518.60025</td>\n",
       "    </tr>\n",
       "    <tr>\n",
       "      <th>...</th>\n",
       "      <td>...</td>\n",
       "      <td>...</td>\n",
       "      <td>...</td>\n",
       "      <td>...</td>\n",
       "      <td>...</td>\n",
       "      <td>...</td>\n",
       "      <td>...</td>\n",
       "      <td>...</td>\n",
       "    </tr>\n",
       "    <tr>\n",
       "      <th>475</th>\n",
       "      <td>520.125</td>\n",
       "      <td>532.000</td>\n",
       "      <td>520.29850</td>\n",
       "      <td>519.64550</td>\n",
       "      <td>520.375</td>\n",
       "      <td>532.00</td>\n",
       "      <td>520.29950</td>\n",
       "      <td>519.64550</td>\n",
       "    </tr>\n",
       "    <tr>\n",
       "      <th>476</th>\n",
       "      <td>520.375</td>\n",
       "      <td>532.000</td>\n",
       "      <td>520.29950</td>\n",
       "      <td>519.64550</td>\n",
       "      <td>520.625</td>\n",
       "      <td>532.00</td>\n",
       "      <td>520.30050</td>\n",
       "      <td>519.64850</td>\n",
       "    </tr>\n",
       "    <tr>\n",
       "      <th>477</th>\n",
       "      <td>520.625</td>\n",
       "      <td>532.000</td>\n",
       "      <td>520.30050</td>\n",
       "      <td>519.64850</td>\n",
       "      <td>520.875</td>\n",
       "      <td>532.00</td>\n",
       "      <td>520.30175</td>\n",
       "      <td>519.65425</td>\n",
       "    </tr>\n",
       "    <tr>\n",
       "      <th>478</th>\n",
       "      <td>520.875</td>\n",
       "      <td>532.000</td>\n",
       "      <td>520.30175</td>\n",
       "      <td>519.65425</td>\n",
       "      <td>521.125</td>\n",
       "      <td>532.00</td>\n",
       "      <td>520.30350</td>\n",
       "      <td>519.66275</td>\n",
       "    </tr>\n",
       "    <tr>\n",
       "      <th>479</th>\n",
       "      <td>521.250</td>\n",
       "      <td>531.875</td>\n",
       "      <td>520.29900</td>\n",
       "      <td>519.59450</td>\n",
       "      <td>521.125</td>\n",
       "      <td>532.00</td>\n",
       "      <td>520.30350</td>\n",
       "      <td>519.66275</td>\n",
       "    </tr>\n",
       "  </tbody>\n",
       "</table>\n",
       "<p>479 rows × 8 columns</p>\n",
       "</div>"
      ],
      "text/plain": [
       "           0        1          2          3        4       5          6  \\\n",
       "1    519.375  506.250  520.22075  518.58400  519.625  506.25  520.22250   \n",
       "2    519.625  506.250  520.22250  518.59275  519.875  506.25  520.22375   \n",
       "3    519.875  506.250  520.22375  518.59875  520.125  506.25  520.22475   \n",
       "4    520.125  506.250  520.22475  518.60200  520.375  506.25  520.22575   \n",
       "5    520.375  506.250  520.22575  518.60250  520.625  506.25  520.22700   \n",
       "..       ...      ...        ...        ...      ...     ...        ...   \n",
       "475  520.125  532.000  520.29850  519.64550  520.375  532.00  520.29950   \n",
       "476  520.375  532.000  520.29950  519.64550  520.625  532.00  520.30050   \n",
       "477  520.625  532.000  520.30050  519.64850  520.875  532.00  520.30175   \n",
       "478  520.875  532.000  520.30175  519.65425  521.125  532.00  520.30350   \n",
       "479  521.250  531.875  520.29900  519.59450  521.125  532.00  520.30350   \n",
       "\n",
       "             7  \n",
       "1    518.59275  \n",
       "2    518.59875  \n",
       "3    518.60200  \n",
       "4    518.60250  \n",
       "5    518.60025  \n",
       "..         ...  \n",
       "475  519.64550  \n",
       "476  519.64850  \n",
       "477  519.65425  \n",
       "478  519.66275  \n",
       "479  519.66275  \n",
       "\n",
       "[479 rows x 8 columns]"
      ]
     },
     "execution_count": 198,
     "metadata": {},
     "output_type": "execute_result"
    }
   ],
   "source": [
    "df"
   ]
  },
  {
   "cell_type": "code",
   "execution_count": 199,
   "metadata": {},
   "outputs": [
    {
     "data": {
      "text/plain": [
       "<matplotlib.collections.PathCollection at 0x2840bf490>"
      ]
     },
     "execution_count": 199,
     "metadata": {},
     "output_type": "execute_result"
    },
    {
     "data": {
      "image/png": "[encoded data removed]",
      "text/plain": [
       "<Figure size 600x600 with 1 Axes>"
      ]
     },
     "metadata": {},
     "output_type": "display_data"
    }
   ],
   "source": [
    "plt.figure(figsize=(6,6))\n",
    "plt.scatter(df[0], df[1], s=1, color = 'blue', label='Critical Curves')\n",
    "plt.scatter(df[2], df[3], s=1, color = 'red', label='Caustics')\n",
    "plt.scatter(df[4], df[5], s=1, color = 'blue', label='Critical Curves')\n",
    "plt.scatter(df[6], df[7], s=1, color = 'red', label='Caustics')"
   ]
  },
  {
   "cell_type": "code",
   "execution_count": 200,
   "metadata": {},
   "outputs": [
    {
     "name": "stdout",
     "output_type": "stream",
     "text": [
      "The first false occurs at index: 301\n"
     ]
    }
   ],
   "source": [
    "for i in range(2, len(df)):\n",
    "\n",
    "    de = df.iloc[:i]\n",
    "\n",
    "    # Calculate the center of the points\n",
    "    center_x = de[0].mean()\n",
    "    center_y = de[1].mean()\n",
    "\n",
    "    # Calculate the radius as the average distance from the center\n",
    "    radius = np.sqrt((de[0] - center_x)**2 + (de[1] - center_y)**2).mean()\n",
    "\n",
    "    # Check if all points are approximately at the same distance from the center\n",
    "    tolerance = 6\n",
    "    is_circle = np.all(np.abs(np.sqrt((de[0] - center_x)**2 + (de[1] - center_y)**2) - radius) < tolerance)\n",
    "\n",
    "    if not is_circle:\n",
    "        print(f\"The first false occurs at index: {i}\")\n",
    "        tan_crit_stop = i - 1\n",
    "        break\n",
    "\n",
    "df_tan_crit = df.iloc[:tan_crit_stop]\n",
    "df_rad_crit = df.iloc[tan_crit_stop:]"
   ]
  },
  {
   "cell_type": "code",
   "execution_count": 201,
   "metadata": {},
   "outputs": [],
   "source": [
    "for i in range(2, len(df)):\n",
    "\n",
    "    de = df.iloc[:i]\n",
    "\n",
    "    # Calculate the center of the points\n",
    "    center_x = de[2].mean()\n",
    "    center_y = de[3].mean()\n",
    "\n",
    "    # Calculate the radius as the average distance from the center\n",
    "    radius = np.sqrt((de[2] - center_x)**2 + (de[3] - center_y)**2).mean()\n",
    "\n",
    "    # Check if all points are approximately at the same distance from the center\n",
    "    tolerance = 5\n",
    "    is_circle = np.all(np.abs(np.sqrt((de[2] - center_x)**2 + (de[3] - center_y)**2) - radius) < tolerance)\n",
    "\n",
    "    if not is_circle:\n",
    "        print(f\"The first false occurs at index: {i}\")\n",
    "        tan_caust_stop = i - 1\n",
    "        break\n",
    "\n",
    "df_tan_caust = df.iloc[:tan_caust_stop]\n",
    "df_rad_caust = df.iloc[tan_caust_stop:]"
   ]
  },
  {
   "cell_type": "code",
   "execution_count": 202,
   "metadata": {},
   "outputs": [],
   "source": [
    "def plot_critical_curve(curve):\n",
    "    plt.figure(figsize=(6,6))\n",
    "    if curve == 'tan_crit':\n",
    "        plt.scatter(df_tan_crit[0], df_tan_crit[1], s=1, color = 'blue', label='Tangential Critical Curve')\n",
    "    elif curve == 'rad_crit':\n",
    "        plt.scatter(df_rad_crit[0], df_rad_crit[1], s=1, color = 'blue', label='Radial Critical Curve')\n",
    "    elif curve == 'tan_caust':\n",
    "        plt.scatter(df_tan_caust[2], df_tan_caust[3], s=1, color = 'red', label='Tangential Caustic')\n",
    "    elif curve == 'rad_caust':\n",
    "        plt.scatter(df_rad_caust[2], df_rad_caust[3], s=1, color = 'red', label='Radial Caustic')"
   ]
  },
  {
   "cell_type": "code",
   "execution_count": 203,
   "metadata": {},
   "outputs": [
    {
     "data": {
      "image/png": "[encoded data removed]",
      "text/plain": [
       "<Figure size 600x600 with 1 Axes>"
      ]
     },
     "metadata": {},
     "output_type": "display_data"
    }
   ],
   "source": [
    "plot_critical_curve('tan_crit')"
   ]
  },
  {
   "cell_type": "code",
   "execution_count": 204,
   "metadata": {},
   "outputs": [],
   "source": [
    "center_x_crit = df[0].mean()\n",
    "center_y_crit = df[1].mean()\n",
    "center_x_caust = df[2].mean()\n",
    "center_y_caust = df[3].mean()\n",
    "\n",
    "df['radius_crit'] = np.sqrt((df[0] - center_x_crit)**2 + (df[1] - center_y_crit)**2)\n",
    "df['radius_caust'] = np.sqrt((df[2] - center_x_caust)**2 + (df[3] - center_y_caust)**2)"
   ]
  },
  {
   "cell_type": "code",
   "execution_count": 205,
   "metadata": {},
   "outputs": [
    {
     "data": {
      "text/plain": [
       "<matplotlib.legend.Legend at 0x2840f5390>"
      ]
     },
     "execution_count": 205,
     "metadata": {},
     "output_type": "execute_result"
    },
    {
     "data": {
      "image/png": "[encoded data removed]",
      "text/plain": [
       "<Figure size 640x480 with 1 Axes>"
      ]
     },
     "metadata": {},
     "output_type": "display_data"
    }
   ],
   "source": [
    "plt.hist(df['radius_crit'], bins=10, label='Critical Curves')\n",
    "plt.hist(df['radius_caust'], bins=10, label='Caustics')\n",
    "plt.legend()"
   ]
  },
  {
   "cell_type": "code",
   "execution_count": 206,
   "metadata": {},
   "outputs": [],
   "source": [
    "caust_mean = df['radius_caust'].mean()\n",
    "crit_mean = df['radius_crit'].mean()\n",
    "mode1_caust = df[df['radius_caust'] < caust_mean]\n",
    "mode2_caust = df[df['radius_caust'] > caust_mean]\n",
    "mode1_crit = df[df['radius_crit'] < crit_mean]\n",
    "mode2_crit = df[df['radius_crit'] > crit_mean]\n",
    "std_crit = df['radius_crit'].std()\n",
    "std_caust = df['radius_caust'].std()\n"
   ]
  },
  {
   "cell_type": "code",
   "execution_count": 207,
   "metadata": {
    "vscode": {
     "languageId": "ruby"
    }
   },
   "outputs": [
    {
     "name": "stdout",
     "output_type": "stream",
     "text": [
      "2.670599566326376 12.488206493222222 0.26575787835110737 3.6876970078167957\n"
     ]
    },
    {
     "name": "stderr",
     "output_type": "stream",
     "text": [
      "/var/folders/tm/964hg0yn70x0ddsqcj4bsf8r0000gn/T/ipykernel_82835/102030434.py:1: FutureWarning: Unlike other reduction functions (e.g. `skew`, `kurtosis`), the default behavior of `mode` typically preserves the axis it acts along. In SciPy 1.11.0, this behavior will change: the default value of `keepdims` will become False, the `axis` over which the statistic is taken will be eliminated, and the value None will no longer be accepted. Set `keepdims` to True or False to avoid this warning.\n",
      "  mode1_crit_val = stats.mode(mode1_crit['radius_crit'])[0][0]\n",
      "/var/folders/tm/964hg0yn70x0ddsqcj4bsf8r0000gn/T/ipykernel_82835/102030434.py:2: FutureWarning: Unlike other reduction functions (e.g. `skew`, `kurtosis`), the default behavior of `mode` typically preserves the axis it acts along. In SciPy 1.11.0, this behavior will change: the default value of `keepdims` will become False, the `axis` over which the statistic is taken will be eliminated, and the value None will no longer be accepted. Set `keepdims` to True or False to avoid this warning.\n",
      "  mode2_crit_val = stats.mode(mode2_crit['radius_crit'])[0][0]\n",
      "/var/folders/tm/964hg0yn70x0ddsqcj4bsf8r0000gn/T/ipykernel_82835/102030434.py:3: FutureWarning: Unlike other reduction functions (e.g. `skew`, `kurtosis`), the default behavior of `mode` typically preserves the axis it acts along. In SciPy 1.11.0, this behavior will change: the default value of `keepdims` will become False, the `axis` over which the statistic is taken will be eliminated, and the value None will no longer be accepted. Set `keepdims` to True or False to avoid this warning.\n",
      "  mode1_caust_val = stats.mode(mode1_caust['radius_caust'])[0][0]\n",
      "/var/folders/tm/964hg0yn70x0ddsqcj4bsf8r0000gn/T/ipykernel_82835/102030434.py:4: FutureWarning: Unlike other reduction functions (e.g. `skew`, `kurtosis`), the default behavior of `mode` typically preserves the axis it acts along. In SciPy 1.11.0, this behavior will change: the default value of `keepdims` will become False, the `axis` over which the statistic is taken will be eliminated, and the value None will no longer be accepted. Set `keepdims` to True or False to avoid this warning.\n",
      "  mode2_caust_val = stats.mode(mode2_caust['radius_caust'])[0][0]\n"
     ]
    }
   ],
   "source": [
    "mode1_crit_val = stats.mode(mode1_crit['radius_crit'])[0][0]\n",
    "mode2_crit_val = stats.mode(mode2_crit['radius_crit'])[0][0]\n",
    "mode1_caust_val = stats.mode(mode1_caust['radius_caust'])[0][0]\n",
    "mode2_caust_val = stats.mode(mode2_caust['radius_caust'])[0][0]\n",
    "print(mode1_crit_val, mode2_crit_val, mode1_caust_val, mode2_caust_val)"
   ]
  },
  {
   "cell_type": "code",
   "execution_count": 208,
   "metadata": {},
   "outputs": [],
   "source": [
    "# std_caust = df['radius_caust'].std()\n",
    "# kde = stats.gaussian_kde(df['radius_caust'])\n",
    "# x = np.linspace(df['radius_caust'].min(), df['radius_caust'].max(), 1000)\n",
    "# y = kde(x)\n",
    "\n",
    "# peaks_caust = []\n",
    "# for i in range(1, len(x) - 1):\n",
    "#     if y[i] > y[i-1] and y[i] > y[i+1]:\n",
    "#         peaks_caust.append(x[i])\n",
    "\n",
    "# print(\"Modes:\", peaks_caust)"
   ]
  },
  {
   "cell_type": "code",
   "execution_count": 209,
   "metadata": {},
   "outputs": [],
   "source": [
    "mask = (df['radius_crit'] > (mode1_crit_val - std_crit)) & (df['radius_crit'] < (mode1_crit_val + std_crit))\n",
    "rad_crit = df[mask]\n",
    "mask = (df['radius_crit'] > (mode2_crit_val - std_crit)) & (df['radius_crit'] < (mode2_crit_val + std_crit))\n",
    "tan_crit = df[mask]\n",
    "mask = (df['radius_caust'] > (mode1_caust_val - std_caust)) & (df['radius_caust'] < (mode1_caust_val + std_caust))\n",
    "tan_caust = df[mask]\n",
    "mask = (df['radius_caust'] > (mode2_caust_val - std_caust)) & (df['radius_caust'] < (mode2_caust_val + std_caust))\n",
    "rad_caust = df[mask]\n"
   ]
  },
  {
   "cell_type": "code",
   "execution_count": 210,
   "metadata": {},
   "outputs": [
    {
     "data": {
      "text/plain": [
       "<matplotlib.legend.Legend at 0x284157f90>"
      ]
     },
     "execution_count": 210,
     "metadata": {},
     "output_type": "execute_result"
    },
    {
     "data": {
      "image/png": "[encoded data removed]",
      "text/plain": [
       "<Figure size 600x600 with 1 Axes>"
      ]
     },
     "metadata": {},
     "output_type": "display_data"
    }
   ],
   "source": [
    "plt.figure(figsize=(6,6))\n",
    "plt.scatter(tan_crit[0], tan_crit[1], s=1, color = 'red', label='Tangential Critical Curve')\n",
    "plt.scatter(rad_caust[2], rad_caust[3], s=1, color = 'green', label='Radial Caustic')\n",
    "plt.scatter(rad_crit[0], rad_crit[1], s=1, color = 'blue', label='Radial Critical Curve')\n",
    "plt.scatter(tan_caust[2], tan_caust[3], s=1, color = 'orange', label='Tangential Caustic')\n",
    "plt.legend()"
   ]
  }
 ],
 "metadata": {
  "kernelspec": {
   "display_name": "Python 3",
   "language": "python",
   "name": "python3"
  },
  "language_info": {
   "codemirror_mode": {
    "name": "ipython",
    "version": 3
   },
   "file_extension": ".py",
   "mimetype": "text/x-python",
   "name": "python",
   "nbconvert_exporter": "python",
   "pygments_lexer": "ipython3",
   "version": "3.11.5"
  }
 },
 "nbformat": 4,
 "nbformat_minor": 2
}
