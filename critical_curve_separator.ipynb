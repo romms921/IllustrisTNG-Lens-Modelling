{
 "cells": [
  {
   "cell_type": "code",
   "execution_count": 178,
   "metadata": {},
   "outputs": [],
   "source": [
    "# Critical Curve Separator\n",
    "import numpy as np\n",
    "import matplotlib.pyplot as plt\n",
    "import pandas as pd"
   ]
  },
  {
   "cell_type": "code",
   "execution_count": 203,
   "metadata": {},
   "outputs": [],
   "source": [
    "data_crit = pd.read_csv('SIE/SIE_POS_crit.dat', header= None, sep=\"\\s+\")\n",
    "data_crit.__dataframe__\n",
    "df = data_crit.iloc[1:]\n",
    "pix_size = 0.04\n",
    "df = df/pix_size"
   ]
  },
  {
   "cell_type": "code",
   "execution_count": 204,
   "metadata": {},
   "outputs": [
    {
     "data": {
      "text/html": [
       "<div>\n",
       "<style scoped>\n",
       "    .dataframe tbody tr th:only-of-type {\n",
       "        vertical-align: middle;\n",
       "    }\n",
       "\n",
       "    .dataframe tbody tr th {\n",
       "        vertical-align: top;\n",
       "    }\n",
       "\n",
       "    .dataframe thead th {\n",
       "        text-align: right;\n",
       "    }\n",
       "</style>\n",
       "<table border=\"1\" class=\"dataframe\">\n",
       "  <thead>\n",
       "    <tr style=\"text-align: right;\">\n",
       "      <th></th>\n",
       "      <th>0</th>\n",
       "      <th>1</th>\n",
       "      <th>2</th>\n",
       "      <th>3</th>\n",
       "      <th>4</th>\n",
       "      <th>5</th>\n",
       "      <th>6</th>\n",
       "      <th>7</th>\n",
       "    </tr>\n",
       "  </thead>\n",
       "  <tbody>\n",
       "    <tr>\n",
       "      <th>1</th>\n",
       "      <td>519.12500</td>\n",
       "      <td>505.7500</td>\n",
       "      <td>520.13975</td>\n",
       "      <td>517.68850</td>\n",
       "      <td>519.37500</td>\n",
       "      <td>505.7500</td>\n",
       "      <td>520.14275</td>\n",
       "      <td>517.70700</td>\n",
       "    </tr>\n",
       "    <tr>\n",
       "      <th>2</th>\n",
       "      <td>519.37500</td>\n",
       "      <td>505.7500</td>\n",
       "      <td>520.14275</td>\n",
       "      <td>517.70700</td>\n",
       "      <td>519.62500</td>\n",
       "      <td>505.7500</td>\n",
       "      <td>520.14525</td>\n",
       "      <td>517.72075</td>\n",
       "    </tr>\n",
       "    <tr>\n",
       "      <th>3</th>\n",
       "      <td>519.62500</td>\n",
       "      <td>505.7500</td>\n",
       "      <td>520.14525</td>\n",
       "      <td>517.72075</td>\n",
       "      <td>519.87500</td>\n",
       "      <td>505.7500</td>\n",
       "      <td>520.14700</td>\n",
       "      <td>517.73000</td>\n",
       "    </tr>\n",
       "    <tr>\n",
       "      <th>4</th>\n",
       "      <td>519.87500</td>\n",
       "      <td>505.7500</td>\n",
       "      <td>520.14700</td>\n",
       "      <td>517.73000</td>\n",
       "      <td>520.12500</td>\n",
       "      <td>505.7500</td>\n",
       "      <td>520.14825</td>\n",
       "      <td>517.73450</td>\n",
       "    </tr>\n",
       "    <tr>\n",
       "      <th>5</th>\n",
       "      <td>520.12500</td>\n",
       "      <td>505.7500</td>\n",
       "      <td>520.14825</td>\n",
       "      <td>517.73450</td>\n",
       "      <td>520.37500</td>\n",
       "      <td>505.7500</td>\n",
       "      <td>520.14975</td>\n",
       "      <td>517.73425</td>\n",
       "    </tr>\n",
       "    <tr>\n",
       "      <th>...</th>\n",
       "      <td>...</td>\n",
       "      <td>...</td>\n",
       "      <td>...</td>\n",
       "      <td>...</td>\n",
       "      <td>...</td>\n",
       "      <td>...</td>\n",
       "      <td>...</td>\n",
       "      <td>...</td>\n",
       "    </tr>\n",
       "    <tr>\n",
       "      <th>479</th>\n",
       "      <td>520.23975</td>\n",
       "      <td>518.9705</td>\n",
       "      <td>508.50825</td>\n",
       "      <td>522.94050</td>\n",
       "      <td>520.23975</td>\n",
       "      <td>518.9705</td>\n",
       "      <td>508.26200</td>\n",
       "      <td>522.18275</td>\n",
       "    </tr>\n",
       "    <tr>\n",
       "      <th>480</th>\n",
       "      <td>520.23975</td>\n",
       "      <td>518.9705</td>\n",
       "      <td>508.26200</td>\n",
       "      <td>522.18275</td>\n",
       "      <td>520.23975</td>\n",
       "      <td>518.9705</td>\n",
       "      <td>508.07000</td>\n",
       "      <td>521.41225</td>\n",
       "    </tr>\n",
       "    <tr>\n",
       "      <th>481</th>\n",
       "      <td>520.23975</td>\n",
       "      <td>518.9705</td>\n",
       "      <td>508.07000</td>\n",
       "      <td>521.41225</td>\n",
       "      <td>520.23975</td>\n",
       "      <td>518.9705</td>\n",
       "      <td>507.93225</td>\n",
       "      <td>520.63225</td>\n",
       "    </tr>\n",
       "    <tr>\n",
       "      <th>482</th>\n",
       "      <td>520.23975</td>\n",
       "      <td>518.9705</td>\n",
       "      <td>507.93225</td>\n",
       "      <td>520.63225</td>\n",
       "      <td>520.23975</td>\n",
       "      <td>518.9705</td>\n",
       "      <td>507.84950</td>\n",
       "      <td>519.84500</td>\n",
       "    </tr>\n",
       "    <tr>\n",
       "      <th>483</th>\n",
       "      <td>520.23975</td>\n",
       "      <td>518.9705</td>\n",
       "      <td>507.84950</td>\n",
       "      <td>519.84500</td>\n",
       "      <td>520.23975</td>\n",
       "      <td>518.9705</td>\n",
       "      <td>507.82200</td>\n",
       "      <td>519.05400</td>\n",
       "    </tr>\n",
       "  </tbody>\n",
       "</table>\n",
       "<p>483 rows × 8 columns</p>\n",
       "</div>"
      ],
      "text/plain": [
       "             0         1          2          3          4         5  \\\n",
       "1    519.12500  505.7500  520.13975  517.68850  519.37500  505.7500   \n",
       "2    519.37500  505.7500  520.14275  517.70700  519.62500  505.7500   \n",
       "3    519.62500  505.7500  520.14525  517.72075  519.87500  505.7500   \n",
       "4    519.87500  505.7500  520.14700  517.73000  520.12500  505.7500   \n",
       "5    520.12500  505.7500  520.14825  517.73450  520.37500  505.7500   \n",
       "..         ...       ...        ...        ...        ...       ...   \n",
       "479  520.23975  518.9705  508.50825  522.94050  520.23975  518.9705   \n",
       "480  520.23975  518.9705  508.26200  522.18275  520.23975  518.9705   \n",
       "481  520.23975  518.9705  508.07000  521.41225  520.23975  518.9705   \n",
       "482  520.23975  518.9705  507.93225  520.63225  520.23975  518.9705   \n",
       "483  520.23975  518.9705  507.84950  519.84500  520.23975  518.9705   \n",
       "\n",
       "             6          7  \n",
       "1    520.14275  517.70700  \n",
       "2    520.14525  517.72075  \n",
       "3    520.14700  517.73000  \n",
       "4    520.14825  517.73450  \n",
       "5    520.14975  517.73425  \n",
       "..         ...        ...  \n",
       "479  508.26200  522.18275  \n",
       "480  508.07000  521.41225  \n",
       "481  507.93225  520.63225  \n",
       "482  507.84950  519.84500  \n",
       "483  507.82200  519.05400  \n",
       "\n",
       "[483 rows x 8 columns]"
      ]
     },
     "execution_count": 204,
     "metadata": {},
     "output_type": "execute_result"
    }
   ],
   "source": [
    "df"
   ]
  },
  {
   "cell_type": "code",
   "execution_count": 205,
   "metadata": {},
   "outputs": [
    {
     "data": {
      "text/plain": [
       "<matplotlib.collections.PathCollection at 0x16bb37290>"
      ]
     },
     "execution_count": 205,
     "metadata": {},
     "output_type": "execute_result"
    },
    {
     "data": {
      "image/png": "[encoded data removed]",
      "text/plain": [
       "<Figure size 600x600 with 1 Axes>"
      ]
     },
     "metadata": {},
     "output_type": "display_data"
    }
   ],
   "source": [
    "plt.figure(figsize=(6,6))\n",
    "plt.scatter(df[0], df[1], s=1, color = 'blue', label='Critical Curves')\n",
    "# plt.scatter(df[2], df[3], s=1, color = 'red', label='Caustics')\n",
    "# plt.scatter(df[4], df[5], s=1, color = 'blue', label='Critical Curves')\n",
    "# plt.scatter(df[6], df[7], s=1, color = 'red', label='Caustics')"
   ]
  },
  {
   "cell_type": "code",
   "execution_count": 206,
   "metadata": {},
   "outputs": [
    {
     "name": "stdout",
     "output_type": "stream",
     "text": [
      "The first false occurs at index: 394\n"
     ]
    }
   ],
   "source": [
    "for i in range(2, len(df)):\n",
    "\n",
    "    de = df.iloc[:i]\n",
    "\n",
    "    # Calculate the center of the points\n",
    "    center_x = de[0].mean()\n",
    "    center_y = de[1].mean()\n",
    "\n",
    "    # Calculate the radius as the average distance from the center\n",
    "    radius = np.sqrt((de[0] - center_x)**2 + (de[1] - center_y)**2).mean()\n",
    "\n",
    "    # Check if all points are approximately at the same distance from the center\n",
    "    tolerance = 7\n",
    "    is_circle = np.all(np.abs(np.sqrt((de[0] - center_x)**2 + (de[1] - center_y)**2) - radius) < tolerance)\n",
    "\n",
    "    if not is_circle:\n",
    "        print(f\"The first false occurs at index: {i}\")\n",
    "        tan_crit_stop = i - 1\n",
    "        break\n",
    "\n",
    "df_tan_crit = df.iloc[:tan_crit_stop]\n",
    "df_rad_crit = df.iloc[tan_crit_stop:]"
   ]
  },
  {
   "cell_type": "code",
   "execution_count": 207,
   "metadata": {},
   "outputs": [
    {
     "name": "stdout",
     "output_type": "stream",
     "text": [
      "The first false occurs at index: 394\n"
     ]
    }
   ],
   "source": [
    "for i in range(2, len(df)):\n",
    "\n",
    "    de = df.iloc[:i]\n",
    "\n",
    "    # Calculate the center of the points\n",
    "    center_x = de[2].mean()\n",
    "    center_y = de[3].mean()\n",
    "\n",
    "    # Calculate the radius as the average distance from the center\n",
    "    radius = np.sqrt((de[2] - center_x)**2 + (de[3] - center_y)**2).mean()\n",
    "\n",
    "    # Check if all points are approximately at the same distance from the center\n",
    "    tolerance = 7\n",
    "    is_circle = np.all(np.abs(np.sqrt((de[2] - center_x)**2 + (de[3] - center_y)**2) - radius) < tolerance)\n",
    "\n",
    "    if not is_circle:\n",
    "        print(f\"The first false occurs at index: {i}\")\n",
    "        tan_caust_stop = i - 1\n",
    "        break\n",
    "\n",
    "df_tan_caust = df.iloc[:tan_caust_stop]\n",
    "df_rad_caust = df.iloc[tan_caust_stop:]"
   ]
  },
  {
   "cell_type": "code",
   "execution_count": 208,
   "metadata": {},
   "outputs": [],
   "source": [
    "def plot_critical_curve(curve):\n",
    "    plt.figure(figsize=(6,6))\n",
    "    if curve == 'tan_crit':\n",
    "        plt.scatter(df_tan_crit[0], df_tan_crit[1], s=1, color = 'blue', label='Tangential Critical Curve')\n",
    "    elif curve == 'rad_crit':\n",
    "        plt.scatter(df_rad_crit[0], df_rad_crit[1], s=1, color = 'blue', label='Radial Critical Curve')\n",
    "    elif curve == 'tan_caust':\n",
    "        plt.scatter(df_tan_caust[2], df_tan_caust[3], s=1, color = 'red', label='Tangential Caustic')\n",
    "    elif curve == 'rad_caust':\n",
    "        plt.scatter(df_rad_caust[2], df_rad_caust[3], s=1, color = 'red', label='Radial Caustic')"
   ]
  },
  {
   "cell_type": "code",
   "execution_count": 210,
   "metadata": {},
   "outputs": [
    {
     "data": {
      "image/png": "[encoded data removed]",
      "text/plain": [
       "<Figure size 600x600 with 1 Axes>"
      ]
     },
     "metadata": {},
     "output_type": "display_data"
    }
   ],
   "source": [
    "plot_critical_curve('tan_crit')"
   ]
  }
 ],
 "metadata": {
  "kernelspec": {
   "display_name": "Python 3",
   "language": "python",
   "name": "python3"
  },
  "language_info": {
   "codemirror_mode": {
    "name": "ipython",
    "version": 3
   },
   "file_extension": ".py",
   "mimetype": "text/x-python",
   "name": "python",
   "nbconvert_exporter": "python",
   "pygments_lexer": "ipython3",
   "version": "3.11.5"
  }
 },
 "nbformat": 4,
 "nbformat_minor": 2
}
