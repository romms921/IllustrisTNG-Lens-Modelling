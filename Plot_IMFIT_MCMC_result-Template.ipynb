{
 "cells": [
  {
   "cell_type": "code",
   "execution_count": 1,
   "id": "1214eea5",
   "metadata": {},
   "outputs": [],
   "source": [
    "import numpy as np\n",
    "from astropy.io import fits\n",
    "import pandas as pd\n",
    "import matplotlib.pyplot as plt\n",
    "from matplotlib.patches import Rectangle\n",
    "import matplotlib.colors as colors\n",
    "import matplotlib.cbook as cbook\n",
    "from matplotlib.ticker import LinearLocator\n",
    "from matplotlib import cm\n",
    "import scipy.ndimage\n",
    "from astropy.modeling.models import Sersic2D\n",
    "from astropy.cosmology import FlatLambdaCDM\n",
    "from astropy import units as u\n",
    "import corner\n",
    "import glob\n",
    "plt.rcParams['text.usetex'] = True\n",
    "plt.rcParams['text.latex.preamble'] = r'\\usepackage{amsmath} \\usepackage{bm} \\usepackage{xcolor}'\n",
    "plt.rcParams['font.family'] = 'serif'\n",
    "plt.rcParams['font.serif'] = ['Times New Roman'] + plt.rcParams['font.serif']\n",
    "cosmo = FlatLambdaCDM(H0=70, Om0=0.3)"
   ]
  },
  {
   "cell_type": "code",
   "execution_count": 3,
   "id": "48708b31",
   "metadata": {},
   "outputs": [],
   "source": [
    "def Combine_MCMC_Chain(file_name, mcmc_path):\n",
    "    f = open(mcmc_path+file_name+'.'+str(int(0+1))+'.txt', \"r\")\n",
    "    lines = []\n",
    "    for line in f:\n",
    "        line = line.strip()\n",
    "        lines.append(line)\n",
    "\n",
    "    for i in range(len(lines)):\n",
    "        line = lines[i].strip()\n",
    "        if not line.startswith('#'):\n",
    "            header_id = i-1\n",
    "            break\n",
    "        \n",
    "    header_str = lines[header_id]\n",
    "    f.close()\n",
    "    header = header_str.split()\n",
    "    header.remove('#')\n",
    "\n",
    "    IMFIT_mcmc_all = []\n",
    "    for i in range(len(glob.glob(mcmc_path+file_name+'.*.txt'))):\n",
    "        IMFIT_mcmc_all.append(pd.read_csv(mcmc_path+file_name+'.'+str(int(i+1))+'.txt',comment='#',header=None,sep=r'\\s+'))\n",
    "\n",
    "    IMFIT_mcmc = pd.concat(IMFIT_mcmc_all)\n",
    "    del IMFIT_mcmc_all\n",
    "    IMFIT_mcmc.to_csv(mcmc_path+file_name+'.txt',index=False,sep='\\t',header=header)\n",
    "    return "
   ]
  },
  {
   "cell_type": "code",
   "execution_count": 1,
   "id": "76e0d40e",
   "metadata": {},
   "outputs": [
    {
     "ename": "NameError",
     "evalue": "name 'Combine_MCMC_Chain' is not defined",
     "output_type": "error",
     "traceback": [
      "\u001b[0;31m---------------------------------------------------------------------------\u001b[0m",
      "\u001b[0;31mNameError\u001b[0m                                 Traceback (most recent call last)",
      "Cell \u001b[0;32mIn[1], line 4\u001b[0m\n\u001b[1;32m      2\u001b[0m mcmc_path \u001b[38;5;241m=\u001b[39m \u001b[38;5;124m'\u001b[39m\u001b[38;5;124m/Users/alexchow/Desktop/Lensing/iPTF16geu/imfit_stuff/\u001b[39m\u001b[38;5;124m'\u001b[39m \u001b[38;5;66;03m# path to the folder containing the mcmc chain files\u001b[39;00m\n\u001b[1;32m      3\u001b[0m Header_row_number \u001b[38;5;241m=\u001b[39m \u001b[38;5;241m25\u001b[39m\n\u001b[0;32m----> 4\u001b[0m \u001b[43mCombine_MCMC_Chain\u001b[49m(file_name,mcmc_path)\n\u001b[1;32m      5\u001b[0m data \u001b[38;5;241m=\u001b[39m pd\u001b[38;5;241m.\u001b[39mread_csv(mcmc_path\u001b[38;5;241m+\u001b[39mfile_name\u001b[38;5;241m+\u001b[39m\u001b[38;5;124m'\u001b[39m\u001b[38;5;124m.txt\u001b[39m\u001b[38;5;124m'\u001b[39m,sep\u001b[38;5;241m=\u001b[39m\u001b[38;5;124m'\u001b[39m\u001b[38;5;124m\\\u001b[39m\u001b[38;5;124ms+\u001b[39m\u001b[38;5;124m'\u001b[39m)\n\u001b[1;32m      6\u001b[0m accpetance_rate \u001b[38;5;241m=\u001b[39m (data[data[\u001b[38;5;124m'\u001b[39m\u001b[38;5;124maccept\u001b[39m\u001b[38;5;124m'\u001b[39m]\u001b[38;5;241m==\u001b[39m\u001b[38;5;241m1\u001b[39m])\u001b[38;5;241m.\u001b[39mshape[\u001b[38;5;241m0\u001b[39m]\u001b[38;5;241m/\u001b[39m(data)\u001b[38;5;241m.\u001b[39mshape[\u001b[38;5;241m0\u001b[39m] \u001b[38;5;241m*\u001b[39m \u001b[38;5;241m100\u001b[39m\n",
      "\u001b[0;31mNameError\u001b[0m: name 'Combine_MCMC_Chain' is not defined"
     ]
    }
   ],
   "source": [
    "file_name = 'F814W_SN_2Sersic_disk_fix_NoiseFromImg_forCen_largeFOV_mcmc_chain' # imfit output chain's file name\n",
    "mcmc_path = '/Users/alexchow/Desktop/Lensing/iPTF16geu/imfit_stuff/' # path to the folder containing the mcmc chain files\n",
    "Header_row_number = 25\n",
    "Combine_MCMC_Chain(file_name,mcmc_path)\n",
    "data = pd.read_csv(mcmc_path+file_name+'.txt',sep='\\s+')\n",
    "accpetance_rate = (data[data['accept']==1]).shape[0]/(data).shape[0] * 100\n",
    "print('accpetance rate = '+ str(np.round(accpetance_rate,2)) + '%')\n",
    "data = data[data['accept']==1]\n",
    "data = data.drop(columns=['n_2','likelihood','burn-in','CR1','CR2','CR3','accept',\n",
    "                         'PA_1','ell_1','n_1','I_e_1','r_e_1','PA_2','ell_2','n_2','I_e_2','r_e_2'])\n",
    "data.to_numpy()\n",
    "# Plot it.\n",
    "figure = corner.corner(\n",
    "    data,\n",
    "    quantiles=[0.16, 0.5, 0.84],\n",
    "    labels=list(data),\n",
    "    show_titles=True,\n",
    "    #title_kwargs={\"fontsize\": 16},\n",
    ")"
   ]
  },
  {
   "cell_type": "code",
   "execution_count": null,
   "id": "a0539834",
   "metadata": {},
   "outputs": [],
   "source": []
  }
 ],
 "metadata": {
  "kernelspec": {
   "display_name": "Python 3",
   "language": "python",
   "name": "python3"
  },
  "language_info": {
   "codemirror_mode": {
    "name": "ipython",
    "version": 3
   },
   "file_extension": ".py",
   "mimetype": "text/x-python",
   "name": "python",
   "nbconvert_exporter": "python",
   "pygments_lexer": "ipython3",
   "version": "3.11.5"
  }
 },
 "nbformat": 4,
 "nbformat_minor": 5
}
