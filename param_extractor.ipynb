{
 "cells": [
  {
   "cell_type": "code",
   "execution_count": 36,
   "id": "83407375",
   "metadata": {},
   "outputs": [],
   "source": [
    "import numpy as np\n",
    "import matplotlib.pyplot as plt\n",
    "plt.rcParams['font.sans-serif'] = ['Times New Roman']\n",
    "plt.rcParams['figure.dpi'] = 300\n",
    "from mpl_toolkits.axes_grid1.inset_locator import inset_axes\n",
    "import pandas as pd\n",
    "import re"
   ]
  },
  {
   "cell_type": "code",
   "execution_count": 37,
   "id": "7017aa3e",
   "metadata": {},
   "outputs": [],
   "source": [
    "# Model Opening\n",
    "model_path = 'SIE'\n",
    "model_ver = 'SIE_POS+FLUX'\n",
    "\n",
    "if 'POS+FLUX' in model_ver:\n",
    "    constraint = 'pos_flux'\n",
    "elif 'POS' in model_ver:\n",
    "    constraint = 'pos'"
   ]
  },
  {
   "cell_type": "code",
   "execution_count": 38,
   "id": "15516469",
   "metadata": {},
   "outputs": [
    {
     "data": {
      "text/plain": [
       "['------------------------------------------\\n',\n",
       " 'optimize ndim=7\\n',\n",
       " 'run 1: 116 lens models calculated\\n',\n",
       " 'chi^2 = 3.593754e+03  [N_data(extend): 0]\\n',\n",
       " ' extend     : 0.000000e+00 0.000000e+00 0.000000e+00\\n',\n",
       " ' point no 1 : 3.593754e+03 1.896385e+02 3.404115e+03 0.000000e+00 0.000000e+00\\n',\n",
       " ' lens prior : 0.000000e+00\\n',\n",
       " ' map prior  : 0.000000e+00\\n',\n",
       " '\\n',\n",
       " 'omega = 0.3000  lambda = 0.7000  weos = -1.0000  hubble = 0.7000\\n',\n",
       " '\\n',\n",
       " 'lens   sie     0.2613  1.579661e+02  2.080973e+01  2.075958e+01  1.275745e-01 -4.421324e+00  0.000000e+00  0.000000e+00 \\n',\n",
       " 'point  1.0000  2.081279e+01  2.078042e+01 \\n',\n",
       " '------------------------------------------\\n',\n",
       " '------------------------------------------\\n',\n",
       " 'optimize ndim=7\\n',\n",
       " 'run 2: 24 lens models calculated\\n',\n",
       " 'chi^2 = 3.593754e+03  [N_data(extend): 0]\\n',\n",
       " ' extend     : 0.000000e+00 0.000000e+00 0.000000e+00\\n',\n",
       " ' point no 1 : 3.593754e+03 1.896385e+02 3.404115e+03 0.000000e+00 0.000000e+00\\n',\n",
       " ' lens prior : 0.000000e+00\\n',\n",
       " ' map prior  : 0.000000e+00\\n',\n",
       " '\\n',\n",
       " 'omega = 0.3000  lambda = 0.7000  weos = -1.0000  hubble = 0.7000\\n',\n",
       " '\\n',\n",
       " 'lens   sie     0.2613  1.579661e+02  2.080973e+01  2.075958e+01  1.275745e-01 -4.421324e+00  0.000000e+00  0.000000e+00 \\n',\n",
       " 'point  1.0000  2.081279e+01  2.078042e+01 \\n',\n",
       " '------------------------------------------\\n']"
      ]
     },
     "execution_count": 38,
     "metadata": {},
     "output_type": "execute_result"
    }
   ],
   "source": [
    "# Load the data\n",
    "with open(model_path + '/' + model_ver + '_optresult' + '.dat', 'r') as file:\n",
    "    opt_result = file.readlines()\n",
    "\n",
    "opt_result"
   ]
  },
  {
   "cell_type": "code",
   "execution_count": 39,
   "id": "6bfa83a7",
   "metadata": {},
   "outputs": [
    {
     "name": "stdout",
     "output_type": "stream",
     "text": [
      "Last 'optimize' line found at index: 15\n"
     ]
    },
    {
     "data": {
      "text/plain": [
       "['run 2: 24 lens models calculated\\n',\n",
       " 'chi^2 = 3.593754e+03  [N_data(extend): 0]\\n',\n",
       " ' extend     : 0.000000e+00 0.000000e+00 0.000000e+00\\n',\n",
       " ' point no 1 : 3.593754e+03 1.896385e+02 3.404115e+03 0.000000e+00 0.000000e+00\\n',\n",
       " ' lens prior : 0.000000e+00\\n',\n",
       " ' map prior  : 0.000000e+00\\n',\n",
       " '\\n',\n",
       " 'omega = 0.3000  lambda = 0.7000  weos = -1.0000  hubble = 0.7000\\n',\n",
       " '\\n',\n",
       " 'lens   sie     0.2613  1.579661e+02  2.080973e+01  2.075958e+01  1.275745e-01 -4.421324e+00  0.000000e+00  0.000000e+00 \\n',\n",
       " 'point  1.0000  2.081279e+01  2.078042e+01 \\n',\n",
       " '------------------------------------------\\n']"
      ]
     },
     "execution_count": 39,
     "metadata": {},
     "output_type": "execute_result"
    }
   ],
   "source": [
    "# Find the last line with 'optimize' in it\n",
    "last_optimize_index = None\n",
    "for idx in range(len(opt_result) - 1, -1, -1):\n",
    "    if 'optimize' in opt_result[idx]:\n",
    "        last_optimize_index = idx\n",
    "        last_optimize_line = opt_result[idx]\n",
    "        break\n",
    "if last_optimize_index is None:\n",
    "    raise ValueError(\"No line with 'optimize' found in the file.\")\n",
    "\n",
    "print(f\"Last 'optimize' line found at index: {last_optimize_index}\")\n",
    "\n",
    "# Extract everything after the last 'optimize' line\n",
    "opt_result = opt_result[last_optimize_index + 1:]\n",
    "\n",
    "opt_result\n"
   ]
  },
  {
   "cell_type": "code",
   "execution_count": 47,
   "id": "6cf21370",
   "metadata": {},
   "outputs": [
    {
     "name": "stdout",
     "output_type": "stream",
     "text": [
      "Number of 'lens' lines: 1\n",
      "['lens', 'sie', '0.2613', '1.579661e+02', '2.080973e+01', '2.075958e+01', '1.275745e-01', '-4.421324e+00', '0.000000e+00', '0.000000e+00']\n"
     ]
    }
   ],
   "source": [
    "# Count the number of lines that start with 'lens'\n",
    "lens_count = sum(1 for line in opt_result if line.startswith('lens'))\n",
    "print(f\"Number of 'lens' lines: {lens_count}\")\n",
    "\n",
    "# Initialize a dictionary to hold the lens parameters\n",
    "lens_params_dict = {}\n",
    "\n",
    "# Extract the lens parameters\n",
    "lens_params = []\n",
    "for line in opt_result:\n",
    "    if line.startswith('lens'):\n",
    "        # Extract the line and split it into parts\n",
    "        parts = re.split(r'\\s+', line.strip())\n",
    "        print(parts)\n",
    "        # Extract the lens name and parameters\n",
    "        lens_name = parts[1]\n",
    "        params = [float(x) for x in parts[2:]]\n",
    "\n",
    "        # Store the parameters in the dictionary\n",
    "        lens_params_dict[lens_name] = params\n",
    "        lens_params.append((lens_name, params))"
   ]
  },
  {
   "cell_type": "code",
   "execution_count": 46,
   "id": "12286465",
   "metadata": {},
   "outputs": [
    {
     "data": {
      "text/plain": [
       "{'sie': [0.2613, 157.9661, 20.80973, 20.75958, 0.1275745, -4.421324, 0.0, 0.0]}"
      ]
     },
     "execution_count": 46,
     "metadata": {},
     "output_type": "execute_result"
    }
   ],
   "source": [
    "lens_params_dict"
   ]
  },
  {
   "cell_type": "code",
   "execution_count": null,
   "id": "b6a293c8",
   "metadata": {},
   "outputs": [],
   "source": [
    "with open(model_path + '/' + constraint + '_point' + '.py', 'r') as file:\n",
    "    py = file.readlines()\n",
    "\n",
    "py"
   ]
  }
 ],
 "metadata": {
  "kernelspec": {
   "display_name": "Python 3",
   "language": "python",
   "name": "python3"
  },
  "language_info": {
   "codemirror_mode": {
    "name": "ipython",
    "version": 3
   },
   "file_extension": ".py",
   "mimetype": "text/x-python",
   "name": "python",
   "nbconvert_exporter": "python",
   "pygments_lexer": "ipython3",
   "version": "3.11.5"
  }
 },
 "nbformat": 4,
 "nbformat_minor": 5
}
