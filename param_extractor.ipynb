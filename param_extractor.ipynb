{
 "cells": [
  {
   "cell_type": "code",
   "execution_count": 36,
   "id": "83407375",
   "metadata": {},
   "outputs": [],
   "source": [
    "import numpy as np\n",
    "import matplotlib.pyplot as plt\n",
    "plt.rcParams['font.sans-serif'] = ['Times New Roman']\n",
    "plt.rcParams['figure.dpi'] = 300\n",
    "from mpl_toolkits.axes_grid1.inset_locator import inset_axes\n",
    "import pandas as pd\n",
    "import re"
   ]
  },
  {
   "cell_type": "code",
   "execution_count": 66,
   "id": "7017aa3e",
   "metadata": {},
   "outputs": [],
   "source": [
    "# Model Opening\n",
    "model_path = 'SIE+SHEAR'\n",
    "model_ver = 'SIE_POS+FLUX_SHEAR'\n",
    "\n",
    "if 'POS+FLUX' in model_ver:\n",
    "    constraint = 'pos_flux'\n",
    "elif 'POS' in model_ver:\n",
    "    constraint = 'pos'"
   ]
  },
  {
   "cell_type": "code",
   "execution_count": 67,
   "id": "15516469",
   "metadata": {},
   "outputs": [
    {
     "data": {
      "text/plain": [
       "['------------------------------------------\\n',\n",
       " 'optimize ndim=12\\n',\n",
       " 'run 1: 380 lens models calculated\\n',\n",
       " 'chi^2 = 3.412909e+03  [N_data(extend): 0]\\n',\n",
       " ' extend     : 0.000000e+00 0.000000e+00 0.000000e+00\\n',\n",
       " ' point no 1 : 3.412909e+03 3.702283e+01 3.375886e+03 0.000000e+00 0.000000e+00\\n',\n",
       " ' lens prior : 0.000000e+00\\n',\n",
       " ' map prior  : 0.000000e+00\\n',\n",
       " '\\n',\n",
       " 'omega = 0.3000  lambda = 0.7000  weos = -1.0000  hubble = 0.7000\\n',\n",
       " '\\n',\n",
       " 'lens   sie     0.2613  1.278207e+02  2.081052e+01  2.074972e+01  2.320166e-01  2.509131e+00  0.000000e+00  0.000000e+00 \\n',\n",
       " 'lens   pert    0.2613  1.000000e+00  2.110309e+01  2.073726e+01  2.080415e-02  1.065928e+02  0.000000e+00  3.482196e-01 \\n',\n",
       " 'point  1.0000  2.091013e+01  2.075994e+01 \\n',\n",
       " '------------------------------------------\\n',\n",
       " '------------------------------------------\\n',\n",
       " 'optimize ndim=12\\n',\n",
       " 'run 2: 242 lens models calculated\\n',\n",
       " 'chi^2 = 3.368986e+03  [N_data(extend): 0]\\n',\n",
       " ' extend     : 0.000000e+00 0.000000e+00 0.000000e+00\\n',\n",
       " ' point no 1 : 3.368986e+03 3.345571e+00 3.365640e+03 0.000000e+00 0.000000e+00\\n',\n",
       " ' lens prior : 0.000000e+00\\n',\n",
       " ' map prior  : 0.000000e+00\\n',\n",
       " '\\n',\n",
       " 'omega = 0.3000  lambda = 0.7000  weos = -1.0000  hubble = 0.7000\\n',\n",
       " '\\n',\n",
       " 'lens   sie     0.2613  1.272891e+02  2.081108e+01  2.074418e+01  2.924119e-01  3.557118e+00  0.000000e+00  0.000000e+00 \\n',\n",
       " 'lens   pert    0.2613  1.000000e+00  2.111142e+01  2.069488e+01  2.950461e-02  1.079131e+02  0.000000e+00  3.547976e-01 \\n',\n",
       " 'point  1.0000  2.091463e+01  2.074286e+01 \\n',\n",
       " '------------------------------------------\\n',\n",
       " '------------------------------------------\\n',\n",
       " 'optimize ndim=12\\n',\n",
       " 'run 3: 41 lens models calculated\\n',\n",
       " 'chi^2 = 3.368639e+03  [N_data(extend): 0]\\n',\n",
       " ' extend     : 0.000000e+00 0.000000e+00 0.000000e+00\\n',\n",
       " ' point no 1 : 3.368639e+03 2.600966e+00 3.366038e+03 0.000000e+00 0.000000e+00\\n',\n",
       " ' lens prior : 0.000000e+00\\n',\n",
       " ' map prior  : 0.000000e+00\\n',\n",
       " '\\n',\n",
       " 'omega = 0.3000  lambda = 0.7000  weos = -1.0000  hubble = 0.7000\\n',\n",
       " '\\n',\n",
       " 'lens   sie     0.2613  1.272919e+02  2.081111e+01  2.074410e+01  2.921271e-01  3.562585e+00  0.000000e+00  0.000000e+00 \\n',\n",
       " 'lens   pert    0.2613  1.000000e+00  2.111176e+01  2.069523e+01  2.955267e-02  1.079406e+02  0.000000e+00  3.548954e-01 \\n',\n",
       " 'point  1.0000  2.091481e+01  2.074288e+01 \\n',\n",
       " '------------------------------------------\\n',\n",
       " '------------------------------------------\\n',\n",
       " 'optimize ndim=12\\n',\n",
       " 'run 4: 37 lens models calculated\\n',\n",
       " 'chi^2 = 3.368559e+03  [N_data(extend): 0]\\n',\n",
       " ' extend     : 0.000000e+00 0.000000e+00 0.000000e+00\\n',\n",
       " ' point no 1 : 3.368559e+03 2.511238e+00 3.366048e+03 0.000000e+00 0.000000e+00\\n',\n",
       " ' lens prior : 0.000000e+00\\n',\n",
       " ' map prior  : 0.000000e+00\\n',\n",
       " '\\n',\n",
       " 'omega = 0.3000  lambda = 0.7000  weos = -1.0000  hubble = 0.7000\\n',\n",
       " '\\n',\n",
       " 'lens   sie     0.2613  1.273078e+02  2.081102e+01  2.074403e+01  2.920926e-01  3.564185e+00  0.000000e+00  0.000000e+00 \\n',\n",
       " 'lens   pert    0.2613  1.000000e+00  2.111219e+01  2.069566e+01  2.954578e-02  1.079066e+02  0.000000e+00  3.547413e-01 \\n',\n",
       " 'point  1.0000  2.091481e+01  2.074300e+01 \\n',\n",
       " '------------------------------------------\\n']"
      ]
     },
     "execution_count": 67,
     "metadata": {},
     "output_type": "execute_result"
    }
   ],
   "source": [
    "# Load the data\n",
    "with open(model_path + '/' + model_ver + '_optresult' + '.dat', 'r') as file:\n",
    "    opt_result = file.readlines()\n",
    "\n",
    "opt_result"
   ]
  },
  {
   "cell_type": "code",
   "execution_count": 68,
   "id": "6bfa83a7",
   "metadata": {},
   "outputs": [
    {
     "name": "stdout",
     "output_type": "stream",
     "text": [
      "Last 'optimize' line found at index: 46\n"
     ]
    },
    {
     "data": {
      "text/plain": [
       "['run 4: 37 lens models calculated\\n',\n",
       " 'chi^2 = 3.368559e+03  [N_data(extend): 0]\\n',\n",
       " ' extend     : 0.000000e+00 0.000000e+00 0.000000e+00\\n',\n",
       " ' point no 1 : 3.368559e+03 2.511238e+00 3.366048e+03 0.000000e+00 0.000000e+00\\n',\n",
       " ' lens prior : 0.000000e+00\\n',\n",
       " ' map prior  : 0.000000e+00\\n',\n",
       " '\\n',\n",
       " 'omega = 0.3000  lambda = 0.7000  weos = -1.0000  hubble = 0.7000\\n',\n",
       " '\\n',\n",
       " 'lens   sie     0.2613  1.273078e+02  2.081102e+01  2.074403e+01  2.920926e-01  3.564185e+00  0.000000e+00  0.000000e+00 \\n',\n",
       " 'lens   pert    0.2613  1.000000e+00  2.111219e+01  2.069566e+01  2.954578e-02  1.079066e+02  0.000000e+00  3.547413e-01 \\n',\n",
       " 'point  1.0000  2.091481e+01  2.074300e+01 \\n',\n",
       " '------------------------------------------\\n']"
      ]
     },
     "execution_count": 68,
     "metadata": {},
     "output_type": "execute_result"
    }
   ],
   "source": [
    "# Find the last line with 'optimize' in it\n",
    "last_optimize_index = None\n",
    "for idx in range(len(opt_result) - 1, -1, -1):\n",
    "    if 'optimize' in opt_result[idx]:\n",
    "        last_optimize_index = idx\n",
    "        last_optimize_line = opt_result[idx]\n",
    "        break\n",
    "if last_optimize_index is None:\n",
    "    raise ValueError(\"No line with 'optimize' found in the file.\")\n",
    "\n",
    "print(f\"Last 'optimize' line found at index: {last_optimize_index}\")\n",
    "\n",
    "# Extract everything after the last 'optimize' line\n",
    "opt_result = opt_result[last_optimize_index + 1:]\n",
    "\n",
    "opt_result\n"
   ]
  },
  {
   "cell_type": "code",
   "execution_count": 70,
   "id": "6cf21370",
   "metadata": {},
   "outputs": [
    {
     "name": "stdout",
     "output_type": "stream",
     "text": [
      "Number of 'lens' lines: 2\n",
      "['lens', 'sie', '0.2613', '1.273078e+02', '2.081102e+01', '2.074403e+01', '2.920926e-01', '3.564185e+00', '0.000000e+00', '0.000000e+00']\n",
      "['lens', 'pert', '0.2613', '1.000000e+00', '2.111219e+01', '2.069566e+01', '2.954578e-02', '1.079066e+02', '0.000000e+00', '3.547413e-01']\n"
     ]
    },
    {
     "data": {
      "text/plain": [
       "{'sie': [127.3078, 20.81102, 20.74403, 0.2920926, 3.564185, 0.0, 0.0],\n",
       " 'pert': [1.0, 21.11219, 20.69566, 0.02954578, 107.9066, 0.0, 0.3547413]}"
      ]
     },
     "execution_count": 70,
     "metadata": {},
     "output_type": "execute_result"
    }
   ],
   "source": [
    "# Count the number of lines that start with 'lens'\n",
    "lens_count = sum(1 for line in opt_result if line.startswith('lens'))\n",
    "print(f\"Number of 'lens' lines: {lens_count}\")\n",
    "\n",
    "# Initialize a dictionary to hold the lens parameters\n",
    "lens_params_dict = {}\n",
    "\n",
    "# Extract the lens parameters\n",
    "lens_params = []\n",
    "for line in opt_result:\n",
    "    if line.startswith('lens'):\n",
    "        # Extract the line and split it into parts\n",
    "        parts = re.split(r'\\s+', line.strip())\n",
    "        print(parts)\n",
    "        # Extract the lens name and parameters\n",
    "        lens_name = parts[1]\n",
    "        params = [float(x) for x in parts[2:]]\n",
    "\n",
    "        # Store the parameters in the dictionary\n",
    "        lens_params_dict[lens_name] = params\n",
    "        lens_params.append((lens_name, params))\n",
    "\n",
    "# Remove the first lens parameter\n",
    "if lens_params:\n",
    "    for i in range(len(lens_params)):\n",
    "        lens_name, params = lens_params[i]\n",
    "        lens_params_dict[lens_name] = params[1:]\n",
    "        \n",
    "\n",
    "\n",
    "    \n",
    "lens_params_dict"
   ]
  },
  {
   "cell_type": "code",
   "execution_count": 80,
   "id": "a1d49520",
   "metadata": {},
   "outputs": [],
   "source": [
    "# Define the lens corresponding parameters (order preserved)\n",
    "# POW\n",
    "pow_params = ['$z_{s,fid}$', 'x', 'y', 'e', '$θ_{e}$', '$r_{Ein}$', 'γ (PWI)']\n",
    "\n",
    "# SIE\n",
    "sie_params = ['σ', 'x', 'y', 'e', '$θ_{e}$', '$r_{core}$', 'NaN']\n",
    "\n",
    "# NFW\n",
    "nfw_params = ['M', 'x', 'y', 'e', '$θ_{e}$', 'c or $r_{s}$', 'NaN']\n",
    "\n",
    "# EIN\n",
    "ein_params = ['M', 'x', 'y', 'e', '$θ_{e}$', 'c or $r_{s}$', '$α_{e}$']\n",
    "\n",
    "# SHEAR \n",
    "shear_params = ['$z_{s,fid}$', 'x', 'y', 'γ', '$θ_{γ}$', 'NaN', 'κ']\n",
    "\n",
    "# Sersic\n",
    "sersic_params = ['$M_{tot}$', 'x', 'y', 'e', '$θ_{e}$', '$r_{e}$', '$n$']\n",
    "\n",
    "model_list = ['POW', 'SIE', 'NFW', 'EIN', 'PERT', 'SERS']\n",
    "model_params = {\n",
    "    'POW': pow_params,\n",
    "    'SIE': sie_params,\n",
    "    'NFW': nfw_params,\n",
    "    'EIN': ein_params,\n",
    "    'PERT': shear_params,\n",
    "    'SERS': sersic_params\n",
    "}\n"
   ]
  },
  {
   "cell_type": "code",
   "execution_count": 86,
   "id": "1780fa3b",
   "metadata": {},
   "outputs": [],
   "source": [
    "# Use generic column names: param1, param2, ...\n",
    "df = pd.DataFrame()\n",
    "rows = []\n",
    "max_param_len = 0\n",
    "\n",
    "for lens_name, params in lens_params_dict.items():\n",
    "    row = {'Lens Name': lens_name}\n",
    "    for i, val in enumerate(params):\n",
    "        row[f'param{i+1}'] = val\n",
    "    rows.append(row)\n",
    "    if len(params) > max_param_len:\n",
    "        max_param_len = len(params)\n",
    "\n",
    "columns = ['Lens Name'] + [f'param{i+1}' for i in range(max_param_len)]\n",
    "df = pd.DataFrame(rows, columns=columns)\n"
   ]
  },
  {
   "cell_type": "code",
   "execution_count": 87,
   "id": "bd48c3f7",
   "metadata": {},
   "outputs": [
    {
     "data": {
      "application/vnd.microsoft.datawrangler.viewer.v0+json": {
       "columns": [
        {
         "name": "index",
         "rawType": "int64",
         "type": "integer"
        },
        {
         "name": "Lens Name",
         "rawType": "object",
         "type": "string"
        },
        {
         "name": "param1",
         "rawType": "float64",
         "type": "float"
        },
        {
         "name": "param2",
         "rawType": "float64",
         "type": "float"
        },
        {
         "name": "param3",
         "rawType": "float64",
         "type": "float"
        },
        {
         "name": "param4",
         "rawType": "float64",
         "type": "float"
        },
        {
         "name": "param5",
         "rawType": "float64",
         "type": "float"
        },
        {
         "name": "param6",
         "rawType": "float64",
         "type": "float"
        },
        {
         "name": "param7",
         "rawType": "float64",
         "type": "float"
        }
       ],
       "ref": "16a51b0e-a56c-4b1e-82b7-c801deebc621",
       "rows": [
        [
         "0",
         "sie",
         "127.3078",
         "20.81102",
         "20.74403",
         "0.2920926",
         "3.564185",
         "0.0",
         "0.0"
        ],
        [
         "1",
         "pert",
         "1.0",
         "21.11219",
         "20.69566",
         "0.02954578",
         "107.9066",
         "0.0",
         "0.3547413"
        ]
       ],
       "shape": {
        "columns": 8,
        "rows": 2
       }
      },
      "text/html": [
       "<div>\n",
       "<style scoped>\n",
       "    .dataframe tbody tr th:only-of-type {\n",
       "        vertical-align: middle;\n",
       "    }\n",
       "\n",
       "    .dataframe tbody tr th {\n",
       "        vertical-align: top;\n",
       "    }\n",
       "\n",
       "    .dataframe thead th {\n",
       "        text-align: right;\n",
       "    }\n",
       "</style>\n",
       "<table border=\"1\" class=\"dataframe\">\n",
       "  <thead>\n",
       "    <tr style=\"text-align: right;\">\n",
       "      <th></th>\n",
       "      <th>Lens Name</th>\n",
       "      <th>param1</th>\n",
       "      <th>param2</th>\n",
       "      <th>param3</th>\n",
       "      <th>param4</th>\n",
       "      <th>param5</th>\n",
       "      <th>param6</th>\n",
       "      <th>param7</th>\n",
       "    </tr>\n",
       "  </thead>\n",
       "  <tbody>\n",
       "    <tr>\n",
       "      <th>0</th>\n",
       "      <td>sie</td>\n",
       "      <td>127.3078</td>\n",
       "      <td>20.81102</td>\n",
       "      <td>20.74403</td>\n",
       "      <td>0.292093</td>\n",
       "      <td>3.564185</td>\n",
       "      <td>0.0</td>\n",
       "      <td>0.000000</td>\n",
       "    </tr>\n",
       "    <tr>\n",
       "      <th>1</th>\n",
       "      <td>pert</td>\n",
       "      <td>1.0000</td>\n",
       "      <td>21.11219</td>\n",
       "      <td>20.69566</td>\n",
       "      <td>0.029546</td>\n",
       "      <td>107.906600</td>\n",
       "      <td>0.0</td>\n",
       "      <td>0.354741</td>\n",
       "    </tr>\n",
       "  </tbody>\n",
       "</table>\n",
       "</div>"
      ],
      "text/plain": [
       "  Lens Name    param1    param2    param3    param4      param5  param6  \\\n",
       "0       sie  127.3078  20.81102  20.74403  0.292093    3.564185     0.0   \n",
       "1      pert    1.0000  21.11219  20.69566  0.029546  107.906600     0.0   \n",
       "\n",
       "     param7  \n",
       "0  0.000000  \n",
       "1  0.354741  "
      ]
     },
     "execution_count": 87,
     "metadata": {},
     "output_type": "execute_result"
    }
   ],
   "source": [
    "df"
   ]
  },
  {
   "cell_type": "code",
   "execution_count": 88,
   "id": "b6a293c8",
   "metadata": {},
   "outputs": [
    {
     "data": {
      "text/plain": [
       "['#!/usr/bin/env python\\n',\n",
       " 'import glafic\\n',\n",
       " '\\n',\n",
       " \"glafic.init(0.3, 0.7, -1.0, 0.7, 'SIE+SHEAR/SIE_POS+FLUX_SHEAR', 20.0, 20.0, 21.56, 21.56, 0.01, 0.01, 1, verb = 0)\\n\",\n",
       " '\\n',\n",
       " \"glafic.set_secondary('chi2_splane 0', verb = 0)\\n\",\n",
       " \"glafic.set_secondary('chi2_checknimg 0', verb = 0)\\n\",\n",
       " \"glafic.set_secondary('chi2_restart   -1', verb = 0)\\n\",\n",
       " \"glafic.set_secondary('chi2_usemag    1', verb = 0)\\n\",\n",
       " \"glafic.set_secondary('hvary          0', verb = 0)\\n\",\n",
       " \"glafic.set_secondary('ran_seed -122000', verb = 0)\\n\",\n",
       " '\\n',\n",
       " 'glafic.startup_setnum(2, 0, 1)\\n',\n",
       " \"glafic.set_lens(1, 'sie', 0.261343256161012, 1.30e+02, 20.81, 20.76, 0.109, 23.18, 0.0, 0.0)\\n\",\n",
       " \"glafic.set_lens(2, 'pert', 0.261343256161012, 1.0, 20.89, 20.64, 0.1, 140.0, 0.0, 0.3)\\n\",\n",
       " 'glafic.set_point(1, 1.0, 20.78, 20.78)\\n',\n",
       " '\\n',\n",
       " 'glafic.setopt_lens(1, 0, 1, 1, 1, 1, 1, 0, 0)\\n',\n",
       " 'glafic.setopt_lens(2, 0, 0, 1, 1, 1, 1, 0, 1)\\n',\n",
       " 'glafic.setopt_point(1, 0, 1, 1)\\n',\n",
       " '\\n',\n",
       " '# model_init needs to be done again whenever model parameters are changed\\n',\n",
       " 'glafic.model_init(verb = 0)\\n',\n",
       " '\\n',\n",
       " \"glafic.readobs_point('/Users/ainsleylewis/Documents/Astronomy/IllustrisTNG Lens Modelling/obs_point/obs_point_(POS+FLUX).dat')\\n\",\n",
       " 'glafic.optimize()\\n',\n",
       " 'glafic.findimg()\\n',\n",
       " 'glafic.writecrit(1.0)\\n',\n",
       " 'glafic.writelens(1.0)\\n',\n",
       " '\\n',\n",
       " 'glafic.quit()']"
      ]
     },
     "execution_count": 88,
     "metadata": {},
     "output_type": "execute_result"
    }
   ],
   "source": [
    "with open(model_path + '/' + constraint + '_point' + '.py', 'r') as file:\n",
    "    py = file.readlines()\n",
    "\n",
    "py"
   ]
  },
  {
   "cell_type": "code",
   "execution_count": 96,
   "id": "c417906c",
   "metadata": {},
   "outputs": [
    {
     "name": "stdout",
     "output_type": "stream",
     "text": [
      "Line found: glafic.set_lens(1, 'sie', 0.261343256161012, 1.30e+02, 20.81, 20.76, 0.109, 23.18, 0.0, 0.0)\n",
      "Line found: glafic.set_lens(2, 'pert', 0.261343256161012, 1.0, 20.89, 20.64, 0.1, 140.0, 0.0, 0.3)\n",
      "Extracted parameters: [['1', \"'sie'\", '0.261343256161012', '1.30e+02', '20.81', '20.76', '0.109', '23.18', '0.0', '0.0'], ['2', \"'pert'\", '0.261343256161012', '1.0', '20.89', '20.64', '0.1', '140.0', '0.0', '0.3']]\n",
      "Set lens parameters: {'sie': [0.261343256161012, 130.0, 20.81, 20.76, 0.109, 23.18, 0.0, 0.0], 'pert': [0.261343256161012, 1.0, 20.89, 20.64, 0.1, 140.0, 0.0, 0.3]}\n",
      "Set lens parameters after removing first parameter: {'sie': [130.0, 20.81, 20.76, 0.109, 23.18, 0.0, 0.0], 'pert': [1.0, 20.89, 20.64, 0.1, 140.0, 0.0, 0.3]}\n"
     ]
    }
   ],
   "source": [
    "# Extracting the input parameters from the Python file\n",
    "\n",
    "# Find all lines that start with 'glafic.set_lens('\n",
    "set_lens_lines = [line for line in py if line.startswith('glafic.set_lens(')]\n",
    "if not set_lens_lines:\n",
    "    raise ValueError(\"No lines starting with 'glafic.set_lens(' found in the file.\")\n",
    "for l in set_lens_lines:\n",
    "    print(f\"Line found: {l.strip()}\")\n",
    "\n",
    "# Separate out everything in the parentheses\n",
    "set_lens_params = []\n",
    "for line in set_lens_lines:\n",
    "    # Extract the part inside the parentheses\n",
    "    match = re.search(r'set_lens\\((.*?)\\)', line)\n",
    "    if match:\n",
    "        params_str = match.group(1)\n",
    "        # Split by commas and strip whitespace\n",
    "        params = [param.strip() for param in params_str.split(',')]\n",
    "        set_lens_params.append(params)\n",
    "    else:\n",
    "        raise ValueError(f\"No valid parameters found in line: {line.strip()}\")\n",
    "print(f\"Extracted parameters: {set_lens_params}\")\n",
    "\n",
    "# Store the parameters in a dictionary\n",
    "set_lens_dict = {}\n",
    "for params in set_lens_params:\n",
    "    if len(params) < 3:\n",
    "        raise ValueError(f\"Not enough parameters found in line: {params}\")\n",
    "    lens_name = params[1].strip(\"'\\\"\")  # Remove quotes from lens name\n",
    "    lens_params = [float(x) for x in params[2:]]  # Skip index and lens name\n",
    "    set_lens_dict[lens_name] = lens_params\n",
    "print(f\"Set lens parameters: {set_lens_dict}\")\n",
    "\n",
    "# Remove the first lens parameter\n",
    "if set_lens_dict:\n",
    "    for lens_name, params in set_lens_dict.items():\n",
    "        set_lens_dict[lens_name] = params[1:]  # Remove the first parameter (index)\n",
    "print(f\"Set lens parameters after removing first parameter: {set_lens_dict}\")\n",
    "\n"
   ]
  },
  {
   "cell_type": "code",
   "execution_count": null,
   "id": "8b40ba3c",
   "metadata": {},
   "outputs": [
    {
     "data": {
      "application/vnd.microsoft.datawrangler.viewer.v0+json": {
       "columns": [
        {
         "name": "index",
         "rawType": "int64",
         "type": "integer"
        },
        {
         "name": "Lens Name",
         "rawType": "object",
         "type": "string"
        },
        {
         "name": "param1",
         "rawType": "float64",
         "type": "float"
        },
        {
         "name": "param2",
         "rawType": "float64",
         "type": "float"
        },
        {
         "name": "param3",
         "rawType": "float64",
         "type": "float"
        },
        {
         "name": "param4",
         "rawType": "float64",
         "type": "float"
        },
        {
         "name": "param5",
         "rawType": "float64",
         "type": "float"
        },
        {
         "name": "param6",
         "rawType": "float64",
         "type": "float"
        },
        {
         "name": "param7",
         "rawType": "float64",
         "type": "float"
        }
       ],
       "ref": "c1b54e4b-0a96-4aeb-a2f2-c03a3e67722c",
       "rows": [
        [
         "0",
         "sie",
         "130.0",
         "20.81",
         "20.76",
         "0.109",
         "23.18",
         "0.0",
         "0.0"
        ],
        [
         "1",
         "pert",
         "1.0",
         "20.89",
         "20.64",
         "0.1",
         "140.0",
         "0.0",
         "0.3"
        ]
       ],
       "shape": {
        "columns": 8,
        "rows": 2
       }
      },
      "text/html": [
       "<div>\n",
       "<style scoped>\n",
       "    .dataframe tbody tr th:only-of-type {\n",
       "        vertical-align: middle;\n",
       "    }\n",
       "\n",
       "    .dataframe tbody tr th {\n",
       "        vertical-align: top;\n",
       "    }\n",
       "\n",
       "    .dataframe thead th {\n",
       "        text-align: right;\n",
       "    }\n",
       "</style>\n",
       "<table border=\"1\" class=\"dataframe\">\n",
       "  <thead>\n",
       "    <tr style=\"text-align: right;\">\n",
       "      <th></th>\n",
       "      <th>Lens Name</th>\n",
       "      <th>param1</th>\n",
       "      <th>param2</th>\n",
       "      <th>param3</th>\n",
       "      <th>param4</th>\n",
       "      <th>param5</th>\n",
       "      <th>param6</th>\n",
       "      <th>param7</th>\n",
       "    </tr>\n",
       "  </thead>\n",
       "  <tbody>\n",
       "    <tr>\n",
       "      <th>0</th>\n",
       "      <td>sie</td>\n",
       "      <td>130.0</td>\n",
       "      <td>20.81</td>\n",
       "      <td>20.76</td>\n",
       "      <td>0.109</td>\n",
       "      <td>23.18</td>\n",
       "      <td>0.0</td>\n",
       "      <td>0.0</td>\n",
       "    </tr>\n",
       "    <tr>\n",
       "      <th>1</th>\n",
       "      <td>pert</td>\n",
       "      <td>1.0</td>\n",
       "      <td>20.89</td>\n",
       "      <td>20.64</td>\n",
       "      <td>0.100</td>\n",
       "      <td>140.00</td>\n",
       "      <td>0.0</td>\n",
       "      <td>0.3</td>\n",
       "    </tr>\n",
       "  </tbody>\n",
       "</table>\n",
       "</div>"
      ],
      "text/plain": [
       "  Lens Name  param1  param2  param3  param4  param5  param6  param7\n",
       "0       sie   130.0   20.81   20.76   0.109   23.18     0.0     0.0\n",
       "1      pert     1.0   20.89   20.64   0.100  140.00     0.0     0.3"
      ]
     },
     "execution_count": 98,
     "metadata": {},
     "output_type": "execute_result"
    }
   ],
   "source": [
    "# Use generic column names: param1, param2, ...\n",
    "df_input = pd.DataFrame()\n",
    "rows_input = []\n",
    "max_param_len_input = 0\n",
    "for lens_name, params in set_lens_dict.items():\n",
    "    row = {'Lens Name': lens_name}\n",
    "    for i, val in enumerate(params):\n",
    "        row[f'param{i+1}'] = val\n",
    "    rows_input.append(row)\n",
    "    if len(params) > max_param_len_input:\n",
    "        max_param_len_input = len(params)\n",
    "columns_input = ['Lens Name'] + [f'param{i+1}' for i in range(max_param_len_input)]\n",
    "df_input = pd.DataFrame(rows_input, columns=columns_input)\n",
    "df_input\n"
   ]
  }
 ],
 "metadata": {
  "kernelspec": {
   "display_name": "Python 3",
   "language": "python",
   "name": "python3"
  },
  "language_info": {
   "codemirror_mode": {
    "name": "ipython",
    "version": 3
   },
   "file_extension": ".py",
   "mimetype": "text/x-python",
   "name": "python",
   "nbconvert_exporter": "python",
   "pygments_lexer": "ipython3",
   "version": "3.11.5"
  }
 },
 "nbformat": 4,
 "nbformat_minor": 5
}
