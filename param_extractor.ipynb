{
 "cells": [
  {
   "cell_type": "code",
   "execution_count": 2,
   "id": "83407375",
   "metadata": {},
   "outputs": [],
   "source": [
    "import numpy as np\n",
    "import matplotlib.pyplot as plt\n",
    "plt.rcParams['font.sans-serif'] = ['Times New Roman']\n",
    "plt.rcParams['figure.dpi'] = 300\n",
    "from mpl_toolkits.axes_grid1.inset_locator import inset_axes\n",
    "import pandas as pd\n",
    "import re"
   ]
  },
  {
   "cell_type": "code",
   "execution_count": 1,
   "id": "7017aa3e",
   "metadata": {},
   "outputs": [],
   "source": [
    "# Model Opening\n",
    "model_path = 'SIE'\n",
    "model_ver = 'SIE_POS+FLUX'\n",
    "\n",
    "if 'POS+FLUX' in model_ver:\n",
    "    constraint = 'pos_flux'\n",
    "elif 'POS' in model_ver:\n",
    "    constraint = 'pos'"
   ]
  },
  {
   "cell_type": "code",
   "execution_count": 3,
   "id": "15516469",
   "metadata": {},
   "outputs": [
    {
     "data": {
      "text/plain": [
       "['------------------------------------------\\n',\n",
       " 'optimize ndim=7\\n',\n",
       " 'run 1: 116 lens models calculated\\n',\n",
       " 'chi^2 = 3.593754e+03  [N_data(extend): 0]\\n',\n",
       " ' extend     : 0.000000e+00 0.000000e+00 0.000000e+00\\n',\n",
       " ' point no 1 : 3.593754e+03 1.896385e+02 3.404115e+03 0.000000e+00 0.000000e+00\\n',\n",
       " ' lens prior : 0.000000e+00\\n',\n",
       " ' map prior  : 0.000000e+00\\n',\n",
       " '\\n',\n",
       " 'omega = 0.3000  lambda = 0.7000  weos = -1.0000  hubble = 0.7000\\n',\n",
       " '\\n',\n",
       " 'lens   sie     0.2613  1.579661e+02  2.080973e+01  2.075958e+01  1.275745e-01 -4.421324e+00  0.000000e+00  0.000000e+00 \\n',\n",
       " 'point  1.0000  2.081279e+01  2.078042e+01 \\n',\n",
       " '------------------------------------------\\n',\n",
       " '------------------------------------------\\n',\n",
       " 'optimize ndim=7\\n',\n",
       " 'run 2: 24 lens models calculated\\n',\n",
       " 'chi^2 = 3.593754e+03  [N_data(extend): 0]\\n',\n",
       " ' extend     : 0.000000e+00 0.000000e+00 0.000000e+00\\n',\n",
       " ' point no 1 : 3.593754e+03 1.896385e+02 3.404115e+03 0.000000e+00 0.000000e+00\\n',\n",
       " ' lens prior : 0.000000e+00\\n',\n",
       " ' map prior  : 0.000000e+00\\n',\n",
       " '\\n',\n",
       " 'omega = 0.3000  lambda = 0.7000  weos = -1.0000  hubble = 0.7000\\n',\n",
       " '\\n',\n",
       " 'lens   sie     0.2613  1.579661e+02  2.080973e+01  2.075958e+01  1.275745e-01 -4.421324e+00  0.000000e+00  0.000000e+00 \\n',\n",
       " 'point  1.0000  2.081279e+01  2.078042e+01 \\n',\n",
       " '------------------------------------------\\n']"
      ]
     },
     "execution_count": 3,
     "metadata": {},
     "output_type": "execute_result"
    }
   ],
   "source": [
    "# Load the data\n",
    "with open(model_path + '/' + model_ver + '_optresult' + '.dat', 'r') as file:\n",
    "    opt_result = file.readlines()\n",
    "\n",
    "opt_result"
   ]
  },
  {
   "cell_type": "code",
   "execution_count": null,
   "id": "6bfa83a7",
   "metadata": {},
   "outputs": [],
   "source": [
    "# Find last line with 'lens' in it\n",
    "last_lens_line = None\n",
    "for line in reversed(opt_result):\n",
    "    if 'lens' in line:\n",
    "        last_lens_line = line\n",
    "        break\n",
    "if last_lens_line is None:\n",
    "    raise ValueError(\"No line containing 'lens' found in the file.\")\n",
    "\n",
    "# Extract the lens name\n",
    "lens_name = re.search(r'lens\\s+(\\S+)', last_lens_line).group(1)\n",
    "\n",
    "# Extract the parameters from the last line\n",
    "params = re.findall(r'(\\S+)\\s+(\\S+)', last_lens_line)\n",
    "\n"
   ]
  },
  {
   "cell_type": "code",
   "execution_count": null,
   "id": "b6a293c8",
   "metadata": {},
   "outputs": [],
   "source": [
    "with open(model_path + '/' + constraint + '_point' + '.py', 'r') as file:\n",
    "    py = file.readlines()\n",
    "\n",
    "py"
   ]
  }
 ],
 "metadata": {
  "kernelspec": {
   "display_name": "Python 3",
   "language": "python",
   "name": "python3"
  },
  "language_info": {
   "codemirror_mode": {
    "name": "ipython",
    "version": 3
   },
   "file_extension": ".py",
   "mimetype": "text/x-python",
   "name": "python",
   "nbconvert_exporter": "python",
   "pygments_lexer": "ipython3",
   "version": "3.11.5"
  }
 },
 "nbformat": 4,
 "nbformat_minor": 5
}
