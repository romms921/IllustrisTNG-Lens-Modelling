{
 "cells": [
  {
   "cell_type": "code",
   "execution_count": 3,
   "metadata": {},
   "outputs": [],
   "source": [
    "import numpy as np\n",
    "import matplotlib.pyplot as plt\n",
    "plt.rcParams['font.sans-serif'] = ['Times New Roman']\n",
    "from mpl_toolkits.axes_grid1.inset_locator import inset_axes\n",
    "import pandas as pd\n",
    "import re\n",
    "from astropy.io import fits"
   ]
  },
  {
   "cell_type": "code",
   "execution_count": 5,
   "metadata": {},
   "outputs": [
    {
     "data": {
      "text/plain": [
       "['#!/usr/bin/env python\\n',\n",
       " 'import glafic\\n',\n",
       " '\\n',\n",
       " \"glafic.init(0.3, 0.7, -1.0, 0.7, 'SIE/SIE_POS', 20.0, 20.0, 21.56, 21.56, 0.001, 0.001, 1, verb = 0)\\n\",\n",
       " '\\n',\n",
       " \"glafic.set_secondary('chi2_splane 0', verb = 0)\\n\",\n",
       " \"glafic.set_secondary('chi2_checknimg 0', verb = 0)\\n\",\n",
       " \"glafic.set_secondary('chi2_restart   -1', verb = 0)\\n\",\n",
       " \"glafic.set_secondary('chi2_usemag    1', verb = 0)\\n\",\n",
       " \"glafic.set_secondary('hvary          0', verb = 0)\\n\",\n",
       " \"glafic.set_secondary('ran_seed -122000', verb = 0)\\n\",\n",
       " '\\n',\n",
       " 'glafic.startup_setnum(1, 0, 1)\\n',\n",
       " \"glafic.set_lens(1, 'sie', 0.261343256161012, 1.58e+02, 20.80, 20.75, 0.12, -4.0, 0.0, 0.0)\\n\",\n",
       " 'glafic.set_point(1, 1.0, 20.78, 20.78)\\n',\n",
       " '\\n',\n",
       " 'glafic.setopt_lens(1, 0, 1, 1, 1, 1, 1, 0, 0)\\n',\n",
       " 'glafic.setopt_point(1, 0, 1, 1)\\n',\n",
       " '\\n',\n",
       " '# model_init needs to be done again whenever model parameters are changed\\n',\n",
       " 'glafic.model_init(verb = 0)\\n',\n",
       " '\\n',\n",
       " \"glafic.readobs_point('/Users/ainsleylewis/Documents/Astronomy/IllustrisTNG Lens Modelling/obs_point/obs_point_(POS).dat')\\n\",\n",
       " 'glafic.optimize()\\n',\n",
       " 'glafic.findimg()\\n',\n",
       " 'glafic.writecrit(1.0)\\n',\n",
       " 'glafic.writelens(1.0)\\n',\n",
       " '\\n',\n",
       " 'glafic.quit()']"
      ]
     },
     "execution_count": 5,
     "metadata": {},
     "output_type": "execute_result"
    }
   ],
   "source": [
    "# Model Opening\n",
    "model_path = 'SIE'\n",
    "model_ver = 'SIE_POS'\n",
    "\n",
    "if 'POS+FLUX' in model_ver:\n",
    "    constraint = 'pos_flux'\n",
    "elif 'POS' in model_ver:\n",
    "    constraint = 'pos'\n",
    "\n",
    "\n",
    "# Load the data\n",
    "with open(model_path + '/' + model_ver + '_optresult' + '.dat', 'r') as file:\n",
    "    opt_result = file.readlines()\n",
    "\n",
    "opt_result\n",
    "\n",
    "with open(model_path + '/' + constraint + '_point' + '.py', 'r') as file:\n",
    "    py = file.readlines()\n",
    "\n",
    "py"
   ]
  },
  {
   "cell_type": "code",
   "execution_count": 6,
   "metadata": {},
   "outputs": [
    {
     "name": "stdout",
     "output_type": "stream",
     "text": [
      "Filename: SIE/SIE_POS_lens.fits\n",
      "No.    Name      Ver    Type      Cards   Dimensions   Format\n",
      "  0  PRIMARY       1 PrimaryHDU      27   (1560, 1560, 8)   float32   \n"
     ]
    }
   ],
   "source": [
    "# FITS File \n",
    "# Load the data\n",
    "image = model_path + '/' + model_ver + '_lens' + '.fits'\n",
    "\n",
    "hdu_list = fits.open(image)\n",
    "hdu_list.info()"
   ]
  }
 ],
 "metadata": {
  "kernelspec": {
   "display_name": "Python 3",
   "language": "python",
   "name": "python3"
  },
  "language_info": {
   "codemirror_mode": {
    "name": "ipython",
    "version": 3
   },
   "file_extension": ".py",
   "mimetype": "text/x-python",
   "name": "python",
   "nbconvert_exporter": "python",
   "pygments_lexer": "ipython3",
   "version": "3.11.5"
  }
 },
 "nbformat": 4,
 "nbformat_minor": 2
}
