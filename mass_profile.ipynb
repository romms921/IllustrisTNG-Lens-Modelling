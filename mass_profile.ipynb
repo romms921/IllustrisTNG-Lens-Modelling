{
 "cells": [
  {
   "cell_type": "code",
   "execution_count": 28,
   "metadata": {},
   "outputs": [],
   "source": [
    "import numpy as np\n",
    "import matplotlib.pyplot as plt\n",
    "import pandas as pd\n",
    "import re"
   ]
  },
  {
   "cell_type": "code",
   "execution_count": null,
   "metadata": {},
   "outputs": [
    {
     "data": {
      "text/plain": [
       "['#!/usr/bin/env python\\n',\n",
       " 'import glafic\\n',\n",
       " '\\n',\n",
       " \"glafic.init(0.3, 0.7, -1.0, 0.7, 'SIE/SIE_POS', 20.0, 20.0, 21.56, 21.56, 0.001, 0.001, 1, verb = 0)\\n\",\n",
       " '\\n',\n",
       " \"glafic.set_secondary('chi2_splane 0', verb = 0)\\n\",\n",
       " \"glafic.set_secondary('chi2_checknimg 0', verb = 0)\\n\",\n",
       " \"glafic.set_secondary('chi2_restart   -1', verb = 0)\\n\",\n",
       " \"glafic.set_secondary('chi2_usemag    1', verb = 0)\\n\",\n",
       " \"glafic.set_secondary('hvary          0', verb = 0)\\n\",\n",
       " \"glafic.set_secondary('ran_seed -122000', verb = 0)\\n\",\n",
       " '\\n',\n",
       " 'glafic.startup_setnum(1, 0, 1)\\n',\n",
       " \"glafic.set_lens(1, 'sie', 0.261343256161012, 1.58e+02, 20.80, 20.75, 0.12, -4.0, 0.0, 0.0)\\n\",\n",
       " 'glafic.set_point(1, 1.0, 20.78, 20.78)\\n',\n",
       " '\\n',\n",
       " 'glafic.setopt_lens(1, 0, 1, 1, 1, 1, 1, 0, 0)\\n',\n",
       " 'glafic.setopt_point(1, 0, 1, 1)\\n',\n",
       " '\\n',\n",
       " '# model_init needs to be done again whenever model parameters are changed\\n',\n",
       " 'glafic.model_init(verb = 0)\\n',\n",
       " '\\n',\n",
       " \"glafic.readobs_point('/Users/ainsleylewis/Documents/Astronomy/IllustrisTNG Lens Modelling/obs_point/obs_point_(POS).dat')\\n\",\n",
       " 'glafic.optimize()\\n',\n",
       " 'glafic.findimg()\\n',\n",
       " 'glafic.writecrit(1.0)\\n',\n",
       " 'glafic.writelens(1.0)\\n',\n",
       " '\\n',\n",
       " 'glafic.quit()']"
      ]
     },
     "execution_count": 26,
     "metadata": {},
     "output_type": "execute_result"
    }
   ],
   "source": [
    "# Model Opening\n",
    "model_path = 'SIE'\n",
    "model_ver = 'SIE_POS'\n",
    "\n",
    "if 'POS+FLUX' in model_ver:\n",
    "    constraint = 'pos_flux'\n",
    "elif 'POS' in model_ver:\n",
    "    constraint = 'pos'\n",
    "\n",
    "\n",
    "# Load the data\n",
    "with open(model_path + '/' + model_ver + '_optresult' + '.dat', 'r') as file:\n",
    "    opt_result = file.readlines()\n",
    "\n",
    "opt_result\n",
    "\n",
    "with open(model_path + '/' + constraint + '_point' + '.py', 'r') as file:\n",
    "    py = file.readlines()\n",
    "\n",
    "py"
   ]
  },
  {
   "cell_type": "code",
   "execution_count": null,
   "metadata": {},
   "outputs": [
    {
     "name": "stdout",
     "output_type": "stream",
     "text": [
      "1\n"
     ]
    }
   ],
   "source": [
    "# Extract the line containing 'glafic.startup_setnum('\n",
    "startup_setnum_line = next(line for line in py if 'glafic.startup_setnum(' in line)\n",
    "\n",
    "# Extract the first number inside the parentheses\n",
    "extracted_value = int(re.search(r'glafic\\.startup_setnum\\((\\d+)', startup_setnum_line).group(1))\n",
    "\n",
    "print(extracted_value)"
   ]
  },
  {
   "cell_type": "code",
   "execution_count": 32,
   "metadata": {},
   "outputs": [
    {
     "name": "stdout",
     "output_type": "stream",
     "text": [
      "lens   sie     0.2613  1.580325e+02  2.080960e+01  2.075892e+01  1.289116e-01  1.755657e+02  0.000000e+00  0.000000e+00 \n",
      "\n"
     ]
    },
    {
     "data": {
      "text/plain": [
       "[0.2613,\n",
       " 1.580325,\n",
       " 2.0,\n",
       " 2.08096,\n",
       " 1.0,\n",
       " 2.075892,\n",
       " 1.0,\n",
       " 1.289116,\n",
       " 1.0,\n",
       " 1.755657,\n",
       " 2.0,\n",
       " 0.0,\n",
       " 0.0,\n",
       " 0.0,\n",
       " 0.0]"
      ]
     },
     "execution_count": 32,
     "metadata": {},
     "output_type": "execute_result"
    }
   ],
   "source": [
    "# Model Values \n",
    "# Find the line containing 'lens   sie' in opt_result\n",
    "lens_sie_line = next(line for line in opt_result if 'lens   sie' in line)\n",
    "\n",
    "print(lens_sie_line)\n",
    "\n",
    "# Extract the values from the line\n",
    "lens_sie_values = re.findall(r'[-+]?\\d*\\.\\d+|\\d+', lens_sie_line)\n",
    "lens_sie_values = [float(i) for i in lens_sie_values]\n",
    "lens_sie_values"
   ]
  },
  {
   "cell_type": "code",
   "execution_count": null,
   "metadata": {},
   "outputs": [
    {
     "data": {
      "text/plain": [
       "14"
      ]
     },
     "execution_count": 35,
     "metadata": {},
     "output_type": "execute_result"
    }
   ],
   "source": [
    "# Write Glafic file\n",
    "glafic_file = open('kappa_glafic.py', 'w')\n",
    "glafic_file.write('import glafic' '\\n')\n",
    "glafic_file.write('glafic.init(0.3, 0.7, -1.0, 0.7, '', 20.0, 20.0, 21.56, 21.56, 0.01, 0.01, 1, verb = 0)' '\\n')"
   ]
  }
 ],
 "metadata": {
  "kernelspec": {
   "display_name": "Python 3",
   "language": "python",
   "name": "python3"
  },
  "language_info": {
   "codemirror_mode": {
    "name": "ipython",
    "version": 3
   },
   "file_extension": ".py",
   "mimetype": "text/x-python",
   "name": "python",
   "nbconvert_exporter": "python",
   "pygments_lexer": "ipython3",
   "version": "3.11.5"
  }
 },
 "nbformat": 4,
 "nbformat_minor": 2
}
