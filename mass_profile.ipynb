{
 "cells": [
  {
   "cell_type": "code",
   "execution_count": 1,
   "metadata": {},
   "outputs": [],
   "source": [
    "import numpy as np\n",
    "import matplotlib.pyplot as plt\n",
    "import pandas as pd\n",
    "import re"
   ]
  },
  {
   "cell_type": "code",
   "execution_count": 2,
   "metadata": {},
   "outputs": [
    {
     "data": {
      "text/plain": [
       "['#!/usr/bin/env python\\n',\n",
       " 'import glafic\\n',\n",
       " '\\n',\n",
       " \"glafic.init(0.3, 0.7, -1.0, 0.7, 'SIE/SIE_POS', 20.0, 20.0, 21.56, 21.56, 0.001, 0.001, 1, verb = 0)\\n\",\n",
       " '\\n',\n",
       " \"glafic.set_secondary('chi2_splane 0', verb = 0)\\n\",\n",
       " \"glafic.set_secondary('chi2_checknimg 0', verb = 0)\\n\",\n",
       " \"glafic.set_secondary('chi2_restart   -1', verb = 0)\\n\",\n",
       " \"glafic.set_secondary('chi2_usemag    1', verb = 0)\\n\",\n",
       " \"glafic.set_secondary('hvary          0', verb = 0)\\n\",\n",
       " \"glafic.set_secondary('ran_seed -122000', verb = 0)\\n\",\n",
       " '\\n',\n",
       " 'glafic.startup_setnum(1, 0, 1)\\n',\n",
       " \"glafic.set_lens(1, 'sie', 0.261343256161012, 1.58e+02, 20.80, 20.75, 0.12, -4.0, 0.0, 0.0)\\n\",\n",
       " 'glafic.set_point(1, 1.0, 20.78, 20.78)\\n',\n",
       " '\\n',\n",
       " 'glafic.setopt_lens(1, 0, 1, 1, 1, 1, 1, 0, 0)\\n',\n",
       " 'glafic.setopt_point(1, 0, 1, 1)\\n',\n",
       " '\\n',\n",
       " '# model_init needs to be done again whenever model parameters are changed\\n',\n",
       " 'glafic.model_init(verb = 0)\\n',\n",
       " '\\n',\n",
       " \"glafic.readobs_point('/Users/ainsleylewis/Documents/Astronomy/IllustrisTNG Lens Modelling/obs_point/obs_point_(POS).dat')\\n\",\n",
       " 'glafic.optimize()\\n',\n",
       " 'glafic.findimg()\\n',\n",
       " 'glafic.writecrit(1.0)\\n',\n",
       " 'glafic.writelens(1.0)\\n',\n",
       " '\\n',\n",
       " 'glafic.quit()']"
      ]
     },
     "execution_count": 2,
     "metadata": {},
     "output_type": "execute_result"
    }
   ],
   "source": [
    "# Model Opening\n",
    "model_path = 'SIE'\n",
    "model_ver = 'SIE_POS'\n",
    "\n",
    "if 'POS+FLUX' in model_ver:\n",
    "    constraint = 'pos_flux'\n",
    "elif 'POS' in model_ver:\n",
    "    constraint = 'pos'\n",
    "\n",
    "\n",
    "# Load the data\n",
    "with open(model_path + '/' + model_ver + '_optresult' + '.dat', 'r') as file:\n",
    "    opt_result = file.readlines()\n",
    "\n",
    "opt_result\n",
    "\n",
    "with open(model_path + '/' + constraint + '_point' + '.py', 'r') as file:\n",
    "    py = file.readlines()\n",
    "\n",
    "py"
   ]
  },
  {
   "cell_type": "code",
   "execution_count": 28,
   "metadata": {},
   "outputs": [
    {
     "name": "stdout",
     "output_type": "stream",
     "text": [
      "['0.3', '0.7', '-1.0', '0.7', \"'SIE/SIE_POS'\", '20.0', '20.0', '21.56', '21.56', '0.01', '0.01', '1', '0']\n"
     ]
    }
   ],
   "source": [
    "# Extract Glafic Parameters\n",
    "# Extract the line containing 'glafic.init('\n",
    "glafic_init_line = next(line for line in py if 'glafic.init(' in line)\n",
    "\n",
    "# Extract the values inside the parentheses\n",
    "glafic_init_values = re.findall(r\"[-+]?\\d*\\.\\d+|\\d+|\\'[^\\']*\\'\", glafic_init_line)\n",
    "\n",
    "print(glafic_init_values)"
   ]
  },
  {
   "cell_type": "code",
   "execution_count": 3,
   "metadata": {},
   "outputs": [
    {
     "name": "stdout",
     "output_type": "stream",
     "text": [
      "1\n",
      "1\n"
     ]
    }
   ],
   "source": [
    "# Extract the line containing 'glafic.startup_setnum('\n",
    "startup_setnum_line = next(line for line in py if 'glafic.startup_setnum(' in line)\n",
    "\n",
    "set_point_line = next(line for line in py if 'glafic.set_point(' in line)\n",
    "\n",
    "# Extract the first number inside the parentheses\n",
    "extracted_value = int(re.search(r'glafic\\.startup_setnum\\((\\d+)', startup_setnum_line).group(1))\n",
    "\n",
    "print(extracted_value)\n",
    "\n",
    "set_point = int(re.search(r'glafic\\.set_point\\((\\d+)', set_point_line).group(1))\n",
    "\n",
    "print(set_point)"
   ]
  },
  {
   "cell_type": "code",
   "execution_count": 4,
   "metadata": {},
   "outputs": [
    {
     "name": "stdout",
     "output_type": "stream",
     "text": [
      "lens   sie     0.2613  1.580350e+02  2.080960e+01  2.075891e+01  1.287589e-01 -4.437098e+00  0.000000e+00  0.000000e+00 \n",
      "\n",
      "point  1.0000  2.081270e+01  2.078004e+01 \n",
      "\n"
     ]
    },
    {
     "data": {
      "text/plain": [
       "['2.081270e+01', '2.078004e+01']"
      ]
     },
     "execution_count": 4,
     "metadata": {},
     "output_type": "execute_result"
    }
   ],
   "source": [
    "# Model Values \n",
    "# Find the line containing 'lens   sie' in opt_result\n",
    "lens_sie_line = next(line for line in reversed(opt_result) if 'lens   sie' in line)\n",
    "\n",
    "print(lens_sie_line)\n",
    "\n",
    "# Extract the values from the line\n",
    "lens_sie_values = lens_sie_line.split()[2:]\n",
    "lens_sie_values = [str(value) for value in lens_sie_values]\n",
    "lens_sie_values\n",
    "\n",
    "# Find the line containing 'glafic.set_point' in opt_result\n",
    "set_point_line = next(line for line in reversed(opt_result) if 'point' in line)\n",
    "\n",
    "print(set_point_line)\n",
    "\n",
    "# Extract the values from the line\n",
    "set_point_values = set_point_line.split()[2:]\n",
    "set_point_values = [str(value) for value in set_point_values]\n",
    "set_point_values\n"
   ]
  },
  {
   "cell_type": "code",
   "execution_count": 21,
   "metadata": {},
   "outputs": [
    {
     "name": "stdout",
     "output_type": "stream",
     "text": [
      "Found glafic.set_lens\n",
      "Found glafic.set_point\n"
     ]
    }
   ],
   "source": [
    "# Read the existing file contents\n",
    "with open('kappa_glafic.py', 'r') as f:\n",
    "    py = f.readlines()\n",
    "\n",
    "# Update values and write back\n",
    "with open('kappa_glafic.py', 'w') as glafic_file:\n",
    "    for line in py:\n",
    "        if 'glafic.set_lens(' in line:\n",
    "            print('Found glafic.set_lens')\n",
    "            line = f\"glafic.set_lens(1, 'sie', {lens_sie_values[0]}, {lens_sie_values[1]}, {lens_sie_values[2]}, {lens_sie_values[3]}, {lens_sie_values[4]}, {lens_sie_values[5]}, {lens_sie_values[6]}, {lens_sie_values[7]})\\n\"\n",
    "        elif 'glafic.set_point(' in line:\n",
    "            print('Found glafic.set_point')\n",
    "            # Ensure values are up to date\n",
    "            if set_point_values is not None and len(set_point_values) == 2:\n",
    "                line = f\"glafic.set_point(1, 1.000, {set_point_values[0]}, {set_point_values[1]})\\n\"\n",
    "            else:\n",
    "                print(\"set_point_values is not set correctly.\")\n",
    "        glafic_file.write(line)"
   ]
  },
  {
   "cell_type": "code",
   "execution_count": 72,
   "metadata": {},
   "outputs": [],
   "source": [
    "# Plot profile \n",
    "# Load the data\n",
    "data = pd.read_csv('SIE/SIE_POS_kapcum.dat', sep=' ', header=None)\n",
    "data.columns = ['r', 'kappa']\n",
    "data2 = pd.read_csv('SIE/SIE_POS_kaprad.dat', sep=' ', header=None)\n",
    "data2.columns = ['r', 'kappa']"
   ]
  },
  {
   "cell_type": "code",
   "execution_count": 73,
   "metadata": {},
   "outputs": [
    {
     "data": {
      "text/plain": [
       "[<matplotlib.lines.Line2D at 0x109ecca50>]"
      ]
     },
     "execution_count": 73,
     "metadata": {},
     "output_type": "execute_result"
    },
    {
     "data": {
      "image/png": "[encoded data removed]",
      "text/plain": [
       "<Figure size 640x480 with 1 Axes>"
      ]
     },
     "metadata": {},
     "output_type": "display_data"
    }
   ],
   "source": [
    "plt.plot(data['r'], data['kappa'])\n",
    "plt.plot(data2['r'], data2['kappa'])"
   ]
  }
 ],
 "metadata": {
  "kernelspec": {
   "display_name": "Python 3",
   "language": "python",
   "name": "python3"
  },
  "language_info": {
   "codemirror_mode": {
    "name": "ipython",
    "version": 3
   },
   "file_extension": ".py",
   "mimetype": "text/x-python",
   "name": "python",
   "nbconvert_exporter": "python",
   "pygments_lexer": "ipython3",
   "version": "3.11.5"
  }
 },
 "nbformat": 4,
 "nbformat_minor": 2
}
