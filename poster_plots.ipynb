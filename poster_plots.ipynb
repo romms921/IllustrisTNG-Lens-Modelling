{
 "cells": [
  {
   "cell_type": "code",
   "execution_count": 1,
   "metadata": {},
   "outputs": [],
   "source": [
    "import numpy as np\n",
    "import pandas as pd\n",
    "import matplotlib.pyplot as plt\n",
    "from error_propagation import Complex\n",
    "from astropy.io import fits\n",
    "from matplotlib.colors import LogNorm\n",
    "from matplotlib.patches import Ellipse\n",
    "from astropy.visualization import SqrtStretch\n",
    "from astropy.visualization.mpl_normalize import ImageNormalize\n",
    "from photutils.detection import DAOStarFinder\n",
    "from photutils.psf import PSFPhotometry, IterativePSFPhotometry\n",
    "from photutils.psf import make_psf_model_image, CircularGaussianPSF, GaussianPSF, MoffatPSF\n",
    "from tqdm import tqdm\n",
    "import emcee\n",
    "norm = ImageNormalize(stretch=SqrtStretch())\n",
    "\n",
    "# Galfic Plotting Code\n",
    "from astropy.io import fits\n",
    "import warnings\n",
    "warnings.filterwarnings('ignore')"
   ]
  },
  {
   "cell_type": "code",
   "execution_count": null,
   "metadata": {},
   "outputs": [],
   "source": []
  }
 ],
 "metadata": {
  "kernelspec": {
   "display_name": "Python 3",
   "language": "python",
   "name": "python3"
  },
  "language_info": {
   "codemirror_mode": {
    "name": "ipython",
    "version": 3
   },
   "file_extension": ".py",
   "mimetype": "text/x-python",
   "name": "python",
   "nbconvert_exporter": "python",
   "pygments_lexer": "ipython3",
   "version": "3.11.5"
  }
 },
 "nbformat": 4,
 "nbformat_minor": 2
}
