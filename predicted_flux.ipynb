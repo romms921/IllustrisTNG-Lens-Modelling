{
 "cells": [
  {
   "cell_type": "code",
   "execution_count": 1,
   "metadata": {},
   "outputs": [],
   "source": [
    "import pandas as pd\n",
    "from astropy.io import fits\n",
    "import numpy as np\n",
    "import matplotlib.pyplot as plt"
   ]
  },
  {
   "cell_type": "code",
   "execution_count": 22,
   "metadata": {},
   "outputs": [],
   "source": [
    "def get_data(filename):\n",
    "    hdul = fits.open(filename)\n",
    "    data = hdul[0].data[6]\n",
    "    hdul.close()\n",
    "    return data\n",
    "\n",
    "data = get_data('SIE/SIE_POS_lens.fits') # Fits file"
   ]
  },
  {
   "cell_type": "code",
   "execution_count": 24,
   "metadata": {},
   "outputs": [],
   "source": [
    "def read_txt(filename):\n",
    "    with open(filename) as f:\n",
    "        lines = f.readlines()\n",
    "    return lines\n",
    "\n",
    "def get_data_from_txt(filename):\n",
    "    lines = read_txt(filename)\n",
    "    data = []\n",
    "    for line in lines:\n",
    "        data.append(list(map(float, line.split())))\n",
    "    return data\n",
    "\n",
    "txt = get_data_from_txt('SIE/SIE_POS_point.dat') # Output .dat file \n",
    "\n",
    "# Remove first line \n",
    "txt = txt[1:]\n",
    "\n",
    "# Array to dataframe\n",
    "df = pd.DataFrame(txt, columns=['x', 'y', 'm', 'r'])\n"
   ]
  },
  {
   "cell_type": "code",
   "execution_count": 27,
   "metadata": {},
   "outputs": [],
   "source": [
    "# Predicted Magnification\n",
    "df['pred_mag'] = np.zeros(len(df))\n",
    "\n",
    "def get_flux(data):\n",
    "    for i in range(len(df)):\n",
    "        x = int(df['x'][i]/0.04) # 0.04 is the pixel size\n",
    "        y = int(df['y'][i]/0.04) # 0.04 is the pixel size\n",
    "        df['pred_mag'][i] = data[y][x]\n",
    "    return df\n",
    "\n",
    "get_flux(data)\n",
    "\n",
    "df['m'] = abs(df['m'])\n",
    "df['pred_mag'] = abs(df['pred_mag'])\n",
    "\n",
    "# Readjust the magnification\n",
    "max_mag = df['pred_mag'].max()\n",
    "max_m = df['m'].max()\n",
    "\n",
    "df['m'] = df['m']/max_m\n",
    "df['pred_mag'] = df['pred_mag']/max_mag\n"
   ]
  },
  {
   "cell_type": "code",
   "execution_count": 28,
   "metadata": {},
   "outputs": [
    {
     "data": {
      "text/html": [
       "<div>\n",
       "<style scoped>\n",
       "    .dataframe tbody tr th:only-of-type {\n",
       "        vertical-align: middle;\n",
       "    }\n",
       "\n",
       "    .dataframe tbody tr th {\n",
       "        vertical-align: top;\n",
       "    }\n",
       "\n",
       "    .dataframe thead th {\n",
       "        text-align: right;\n",
       "    }\n",
       "</style>\n",
       "<table border=\"1\" class=\"dataframe\">\n",
       "  <thead>\n",
       "    <tr style=\"text-align: right;\">\n",
       "      <th></th>\n",
       "      <th>x</th>\n",
       "      <th>y</th>\n",
       "      <th>m</th>\n",
       "      <th>r</th>\n",
       "      <th>pred_mag</th>\n",
       "    </tr>\n",
       "  </thead>\n",
       "  <tbody>\n",
       "    <tr>\n",
       "      <th>0</th>\n",
       "      <td>2.4493</td>\n",
       "      <td>1.9839</td>\n",
       "      <td>0.340427</td>\n",
       "      <td>0.957</td>\n",
       "      <td>1.000000</td>\n",
       "    </tr>\n",
       "    <tr>\n",
       "      <th>1</th>\n",
       "      <td>2.9527</td>\n",
       "      <td>2.6448</td>\n",
       "      <td>0.691588</td>\n",
       "      <td>0.000</td>\n",
       "      <td>0.419204</td>\n",
       "    </tr>\n",
       "    <tr>\n",
       "      <th>2</th>\n",
       "      <td>2.0763</td>\n",
       "      <td>2.7236</td>\n",
       "      <td>0.778788</td>\n",
       "      <td>0.047</td>\n",
       "      <td>0.772667</td>\n",
       "    </tr>\n",
       "    <tr>\n",
       "      <th>3</th>\n",
       "      <td>2.5009</td>\n",
       "      <td>2.9381</td>\n",
       "      <td>1.000000</td>\n",
       "      <td>0.149</td>\n",
       "      <td>0.328800</td>\n",
       "    </tr>\n",
       "  </tbody>\n",
       "</table>\n",
       "</div>"
      ],
      "text/plain": [
       "        x       y         m      r  pred_mag\n",
       "0  2.4493  1.9839  0.340427  0.957  1.000000\n",
       "1  2.9527  2.6448  0.691588  0.000  0.419204\n",
       "2  2.0763  2.7236  0.778788  0.047  0.772667\n",
       "3  2.5009  2.9381  1.000000  0.149  0.328800"
      ]
     },
     "execution_count": 28,
     "metadata": {},
     "output_type": "execute_result"
    }
   ],
   "source": [
    "df"
   ]
  }
 ],
 "metadata": {
  "kernelspec": {
   "display_name": "Python 3",
   "language": "python",
   "name": "python3"
  },
  "language_info": {
   "codemirror_mode": {
    "name": "ipython",
    "version": 3
   },
   "file_extension": ".py",
   "mimetype": "text/x-python",
   "name": "python",
   "nbconvert_exporter": "python",
   "pygments_lexer": "ipython3",
   "version": "3.11.5"
  }
 },
 "nbformat": 4,
 "nbformat_minor": 2
}
