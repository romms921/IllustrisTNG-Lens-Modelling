{
 "cells": [
  {
   "cell_type": "code",
   "execution_count": 1,
   "id": "60480681-752a-4b80-a507-c34d10dea0d5",
   "metadata": {},
   "outputs": [],
   "source": [
    "import numpy as np\n",
    "from astropy.io import fits"
   ]
  },
  {
   "cell_type": "code",
   "execution_count": 2,
   "id": "15087041-7d21-4fd7-b3ce-cad0c87a8bdb",
   "metadata": {},
   "outputs": [],
   "source": [
    "# Write a .fits file with unit of electrons\n",
    "hdul = fits.open(r\"Rommulus_lens.fits\")\n",
    "t = 600 # in s\n",
    "electrons_arr = hdul[0].data*t\n",
    "hdue = fits.PrimaryHDU(electrons_arr)\n",
    "hdue.header.update(hdul[0].header)\n",
    "hdue.writeto(r\"Rommulus_lens_electrons.fits\", overwrite=True)"
   ]
  },
  {
   "cell_type": "markdown",
   "id": "52d37405-0d84-465e-859e-e6b3d94abfd6",
   "metadata": {},
   "source": [
    "## Create noise map in units of e"
   ]
  },
  {
   "cell_type": "code",
   "execution_count": 3,
   "id": "254a4457-de2c-4ba5-8d01-92c1b5e083bd",
   "metadata": {},
   "outputs": [
    {
     "name": "stdout",
     "output_type": "stream",
     "text": [
      "39.293723884016345\n",
      "[[  8.74250492  27.74738062  93.67721264 ...  36.44149541 -38.32781568\n",
      "  -15.46520011]\n",
      " [-25.86585068  16.28985867 -14.50777008 ...  39.90054737 -21.66549896\n",
      "   12.51736224]\n",
      " [ 43.53302567 -67.83060477  10.89816515 ...  46.85685177  80.57006675\n",
      "  -52.30630439]\n",
      " ...\n",
      " [ 70.04118315 -24.45736033  49.92050638 ...  18.1856721   67.98713918\n",
      "   -5.77783136]\n",
      " [ 31.11711583 -10.61462975 -26.50181175 ...  -3.58912981  49.56024272\n",
      "   71.85989291]\n",
      " [-10.0909797  -36.38916334 -33.73520632 ... -55.13204229  -1.24310266\n",
      "  -31.82955237]]\n",
      "[[0. 0. 0. ... 0. 0. 0.]\n",
      " [0. 0. 0. ... 0. 0. 0.]\n",
      " [0. 0. 0. ... 0. 0. 0.]\n",
      " ...\n",
      " [0. 0. 0. ... 0. 0. 0.]\n",
      " [0. 0. 0. ... 0. 0. 0.]\n",
      " [0. 0. 0. ... 0. 0. 0.]]\n",
      "[[39.29372388 39.29372388 39.29372388 ... 39.29372388 39.29372388\n",
      "  39.29372388]\n",
      " [39.29372388 39.29372388 39.29372388 ... 39.29372388 39.29372388\n",
      "  39.29372388]\n",
      " [39.29372388 39.29372388 39.29372388 ... 39.29372388 39.29372388\n",
      "  39.29372388]\n",
      " ...\n",
      " [39.29372388 39.29372388 39.29372388 ... 39.29372388 39.29372388\n",
      "  39.29372388]\n",
      " [39.29372388 39.29372388 39.29372388 ... 39.29372388 39.29372388\n",
      "  39.29372388]\n",
      " [39.29372388 39.29372388 39.29372388 ... 39.29372388 39.29372388\n",
      "  39.29372388]]\n",
      "[[0. 0. 0. ... 0. 0. 0.]\n",
      " [0. 0. 0. ... 0. 0. 0.]\n",
      " [0. 0. 0. ... 0. 0. 0.]\n",
      " ...\n",
      " [0. 0. 0. ... 0. 0. 0.]\n",
      " [0. 0. 0. ... 0. 0. 0.]\n",
      " [0. 0. 0. ... 0. 0. 0.]]\n"
     ]
    }
   ],
   "source": [
    "hdul = fits.open(r\"Rommulus_lens.fits\")\n",
    "t = 600 # in s\n",
    "\n",
    "## SD of sky background\n",
    "sd = 0.0654895398066939\n",
    "rand_noise = sd*t\n",
    "print(rand_noise)\n",
    "phot_arr = hdul[0].data*t\n",
    "print(phot_arr)\n",
    "def phot_noise_arr(array):\n",
    "    phot_valid_array = np.where(array > (2.5*rand_noise), array, 0)\n",
    "    return phot_valid_array\n",
    "phot_valid_arr = phot_noise_arr(phot_arr)\n",
    "print(phot_valid_arr)\n",
    "\n",
    "rand_noise_sd_arr = np.full((125, 125), rand_noise)\n",
    "phot_noise_sd_arr = np.sqrt(phot_valid_arr)\n",
    "print(rand_noise_sd_arr)\n",
    "print(phot_noise_sd_arr)\n",
    "\n",
    "tot_noise = np.sqrt(rand_noise_sd_arr**2 + phot_noise_sd_arr**2)"
   ]
  },
  {
   "cell_type": "code",
   "execution_count": 4,
   "id": "fcb6857e-2500-43b0-9b92-2c816ba9afda",
   "metadata": {},
   "outputs": [],
   "source": [
    "# # Write cutout as a fits file\n",
    "hducutout = fits.PrimaryHDU(tot_noise)\n",
    "hducutout.header.update(hdul[0].header)\n",
    "# Write cutout with wcs info to file\n",
    "hducutout.writeto(r\"noise_map.fits\", overwrite=True)"
   ]
  },
  {
   "cell_type": "markdown",
   "id": "b48c09a1",
   "metadata": {},
   "source": [
    "# Convert e- into counts"
   ]
  },
  {
   "cell_type": "code",
   "execution_count": 5,
   "id": "b0403fe6",
   "metadata": {},
   "outputs": [],
   "source": [
    "gain = 1.6\n",
    "count_arr = electrons_arr / gain\n",
    "hducounts = fits.PrimaryHDU(count_arr)\n",
    "hducounts.header.update(hdul[0].header)\n",
    "hducounts.writeto(r\"counts.fits\", overwrite=True)"
   ]
  },
  {
   "cell_type": "markdown",
   "id": "5cb324dd",
   "metadata": {},
   "source": [
    "# Convert noise map into e- unit"
   ]
  },
  {
   "cell_type": "code",
   "execution_count": 6,
   "id": "6a4b8592",
   "metadata": {},
   "outputs": [],
   "source": [
    "noise_c = tot_noise / gain\n",
    "hdunoisec = fits.PrimaryHDU(noise_c)\n",
    "hdunoisec.header.update(hdul[0].header)\n",
    "hducounts.writeto(r\"noise_c.fits\", overwrite=True)"
   ]
  },
  {
   "cell_type": "code",
   "execution_count": 7,
   "id": "5674655c",
   "metadata": {},
   "outputs": [
    {
     "name": "stdout",
     "output_type": "stream",
     "text": [
      "[[24.55857743 24.55857743 24.55857743 ... 24.55857743 24.55857743\n",
      "  24.55857743]\n",
      " [24.55857743 24.55857743 24.55857743 ... 24.55857743 24.55857743\n",
      "  24.55857743]\n",
      " [24.55857743 24.55857743 24.55857743 ... 24.55857743 24.55857743\n",
      "  24.55857743]\n",
      " ...\n",
      " [24.55857743 24.55857743 24.55857743 ... 24.55857743 24.55857743\n",
      "  24.55857743]\n",
      " [24.55857743 24.55857743 24.55857743 ... 24.55857743 24.55857743\n",
      "  24.55857743]\n",
      " [24.55857743 24.55857743 24.55857743 ... 24.55857743 24.55857743\n",
      "  24.55857743]]\n",
      "[[39.29372388 39.29372388 39.29372388 ... 39.29372388 39.29372388\n",
      "  39.29372388]\n",
      " [39.29372388 39.29372388 39.29372388 ... 39.29372388 39.29372388\n",
      "  39.29372388]\n",
      " [39.29372388 39.29372388 39.29372388 ... 39.29372388 39.29372388\n",
      "  39.29372388]\n",
      " ...\n",
      " [39.29372388 39.29372388 39.29372388 ... 39.29372388 39.29372388\n",
      "  39.29372388]\n",
      " [39.29372388 39.29372388 39.29372388 ... 39.29372388 39.29372388\n",
      "  39.29372388]\n",
      " [39.29372388 39.29372388 39.29372388 ... 39.29372388 39.29372388\n",
      "  39.29372388]]\n"
     ]
    }
   ],
   "source": [
    "print(noise_c)\n",
    "print(tot_noise)"
   ]
  },
  {
   "cell_type": "code",
   "execution_count": 8,
   "id": "6fcce691",
   "metadata": {},
   "outputs": [
    {
     "name": "stdout",
     "output_type": "stream",
     "text": [
      "[[  5.46406558  17.34211289  58.5482579  ...  22.77593463 -23.9548848\n",
      "   -9.66575007]\n",
      " [-16.16615668  10.18116167  -9.0673563  ...  24.93784211 -13.54093685\n",
      "    7.8233514 ]\n",
      " [ 27.20814104 -42.39412798   6.81135322 ...  29.28553235  50.35629172\n",
      "  -32.69144025]\n",
      " ...\n",
      " [ 43.77573947 -15.28585021  31.20031649 ...  11.36604506  42.49196199\n",
      "   -3.6111446 ]\n",
      " [ 19.44819739  -6.63414359 -16.56363234 ...  -2.24320613  30.9751517\n",
      "   44.91243307]\n",
      " [ -6.30686231 -22.74322709 -21.08450395 ... -34.45752643  -0.77693916\n",
      "  -19.89347023]]\n",
      "[[  8.74250492  27.74738062  93.67721264 ...  36.44149541 -38.32781568\n",
      "  -15.46520011]\n",
      " [-25.86585068  16.28985867 -14.50777008 ...  39.90054737 -21.66549896\n",
      "   12.51736224]\n",
      " [ 43.53302567 -67.83060477  10.89816515 ...  46.85685177  80.57006675\n",
      "  -52.30630439]\n",
      " ...\n",
      " [ 70.04118315 -24.45736033  49.92050638 ...  18.1856721   67.98713918\n",
      "   -5.77783136]\n",
      " [ 31.11711583 -10.61462975 -26.50181175 ...  -3.58912981  49.56024272\n",
      "   71.85989291]\n",
      " [-10.0909797  -36.38916334 -33.73520632 ... -55.13204229  -1.24310266\n",
      "  -31.82955237]]\n"
     ]
    }
   ],
   "source": [
    "print(count_arr)\n",
    "print(electrons_arr)"
   ]
  },
  {
   "cell_type": "code",
   "execution_count": null,
   "id": "89a26d9b",
   "metadata": {},
   "outputs": [],
   "source": []
  }
 ],
 "metadata": {
  "kernelspec": {
   "display_name": "Python 3",
   "language": "python",
   "name": "python3"
  },
  "language_info": {
   "codemirror_mode": {
    "name": "ipython",
    "version": 3
   },
   "file_extension": ".py",
   "mimetype": "text/x-python",
   "name": "python",
   "nbconvert_exporter": "python",
   "pygments_lexer": "ipython3",
   "version": "3.11.5"
  }
 },
 "nbformat": 4,
 "nbformat_minor": 5
}
