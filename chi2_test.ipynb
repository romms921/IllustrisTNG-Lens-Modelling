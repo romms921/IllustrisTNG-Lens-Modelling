{
 "cells": [
  {
   "cell_type": "code",
   "execution_count": null,
   "id": "b01f7b3e",
   "metadata": {},
   "outputs": [],
   "source": [
    "import numpy as np\n",
    "import pandas as pd"
   ]
  },
  {
   "cell_type": "code",
   "execution_count": null,
   "id": "5359b830",
   "metadata": {},
   "outputs": [],
   "source": [
    "obs_x = [20.77773, 21.27308, 20.39091, 20.81981]\n",
    "obs_y = [20.30254, 20.95612, 21.05057, 21.25931]\n",
    "pred_x = [20.7645, 21.2761, 20.3933, 20.8199]\n",
    "pred_y = [20.3032, 20.9608, 21.0459, 21.2593]\n",
    "# pred_x = [20.7777, 21.2731, 20.3909, 20.8198]\n",
    "# pred_y = [20.3025, 20.9561, 21.0506, 21.2593]\n",
    "sigma = [0.00128, 0.00085, 0.00083, 0.00039]\n",
    "# obs_x = np.round(obs_x, 5)\n",
    "# obs_y = np.round(obs_y, 5)\n",
    "# pred_x = np.round(pred_x, 5)\n",
    "# pred_y = np.round(pred_y, 5)\n",
    "# sigma = np.round(sigma, 5)"
   ]
  },
  {
   "cell_type": "code",
   "execution_count": null,
   "id": "c0d75c41",
   "metadata": {},
   "outputs": [],
   "source": [
    "obs_x = [20.77773, 21.27308, 20.39091, 20.81981, 20.30254, 20.95612, 21.05057, 21.25931]\n",
    "pred_x = [20.7645, 21.2761, 20.3933, 20.8199, 20.3032, 20.9608, 21.0459, 21.2593]\n",
    "sigma = [0.00128, 0.00085, 0.00083, 0.00039, 0.00128, 0.00085, 0.00083, 0.00039]\n",
    "chi2_x = np.sum(((np.array(obs_x) - np.array(pred_x)) / np.array(sigma)) ** 2)\n",
    "print(f\"Chi2 for x: {chi2_x}\")"
   ]
  },
  {
   "cell_type": "code",
   "execution_count": null,
   "id": "516dddeb",
   "metadata": {},
   "outputs": [],
   "source": [
    "# chi2 calculation\n",
    "chi2_x = np.sum(((np.array(obs_x) - np.array(pred_x)) / np.array(sigma)) ** 2)\n",
    "chi2_y = np.sum(((np.array(obs_y) - np.array(pred_y)) / np.array(sigma)) ** 2)\n",
    "chi2_total = chi2_x + chi2_y\n",
    "print(f\"Chi2 for x: {chi2_x}\")\n",
    "print(f\"Chi2 for y: {chi2_y}\")\n",
    "print(f\"Total Chi2: {chi2_total}\")"
   ]
  }
 ],
 "metadata": {
  "language_info": {
   "name": "python"
  }
 },
 "nbformat": 4,
 "nbformat_minor": 5
}
