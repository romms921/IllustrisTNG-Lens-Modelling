{
 "cells": [
  {
   "cell_type": "code",
   "execution_count": null,
   "id": "93a6998c",
   "metadata": {},
   "outputs": [],
   "source": [
    "import numpy as np\n",
    "import matplotlib.pyplot as plt\n",
    "plt.rcParams['font.sans-serif'] = ['Times New Roman']\n",
    "plt.rcParams['figure.dpi'] = 500\n",
    "from mpl_toolkits.axes_grid1.inset_locator import inset_axes\n",
    "from matplotlib.colors import LogNorm\n",
    "from matplotlib.patches import FancyArrowPatch\n",
    "from astropy.visualization import SqrtStretch, LinearStretch, LogStretch\n",
    "from astropy.visualization.mpl_normalize import ImageNormalize\n",
    "import pandas as pd\n",
    "import re\n",
    "from astropy.io import fits\n",
    "import os\n",
    "from scipy.ndimage import map_coordinates\n",
    "from scipy.stats import binned_statistic\n",
    "from scipy.spatial.distance import cdist\n",
    "from scipy.optimize import linear_sum_assignment\n",
    "\n",
    "from matplotlib.lines import Line2D\n",
    "os.chdir(\"/Users/ainsleylewis/Documents/Astronomy/IllustrisTNG Lens Modelling\")"
   ]
  }
 ],
 "metadata": {
  "kernelspec": {
   "display_name": "Python 3",
   "language": "python",
   "name": "python3"
  },
  "language_info": {
   "name": "python",
   "version": "3.11.5"
  }
 },
 "nbformat": 4,
 "nbformat_minor": 5
}
