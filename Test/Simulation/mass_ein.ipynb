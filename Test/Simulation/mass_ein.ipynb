{
 "cells": [
  {
   "cell_type": "code",
   "execution_count": null,
   "id": "1e18df9c",
   "metadata": {},
   "outputs": [],
   "source": [
    "import numpy as np\n",
    "import matplotlib.pyplot as plt\n",
    "plt.rcParams['font.sans-serif'] = ['Times New Roman']\n",
    "plt.rcParams['figure.dpi'] = 500\n",
    "plt.rcParams['text.color'] = 'w'\n",
    "plt.rcParams['axes.labelcolor'] = 'k'\n",
    "plt.rcParams['xtick.color'] = 'w'\n",
    "plt.rcParams['ytick.color'] = 'w'\n",
    "plt.rcParams['axes.edgecolor'] = 'w'\n",
    "plt.rcParams['figure.facecolor'] = 'k'\n",
    "plt.rcParams['axes.facecolor'] = 'k'\n",
    "from mpl_toolkits.axes_grid1.inset_locator import inset_axes\n",
    "from matplotlib.colors import LogNorm\n",
    "from matplotlib.patches import FancyArrowPatch\n",
    "import matplotlib.colors as colors\n",
    "from astropy.visualization import SqrtStretch, LinearStretch, LogStretch\n",
    "from astropy.visualization.mpl_normalize import ImageNormalize\n",
    "import pandas as pd\n",
    "import re\n",
    "from astropy.io import fits\n",
    "import os\n",
    "from scipy.ndimage import map_coordinates\n",
    "from scipy.stats import binned_statistic\n",
    "from scipy.spatial.distance import cdist\n",
    "from scipy.optimize import linear_sum_assignment\n",
    "from pathlib import Path\n",
    "from scipy.stats import gaussian_kde\n",
    "import seaborn as sns\n",
    "import plotly.graph_objects as go\n",
    "\n",
    "from matplotlib.lines import Line2D\n",
    "os.chdir(\"/Users/ainsleylewis/Documents/Astronomy/IllustrisTNG Lens Modelling\")"
   ]
  }
 ],
 "metadata": {
  "language_info": {
   "name": "python"
  }
 },
 "nbformat": 4,
 "nbformat_minor": 5
}
