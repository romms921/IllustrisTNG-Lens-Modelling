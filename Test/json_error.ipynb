{
 "cells": [
  {
   "cell_type": "code",
   "execution_count": null,
   "id": "9f7d6019",
   "metadata": {},
   "outputs": [],
   "source": [
    "import numpy as np\n",
    "import glafic\n",
    "import os"
   ]
  },
  {
   "cell_type": "code",
   "execution_count": 3,
   "id": "05ed68e8",
   "metadata": {},
   "outputs": [],
   "source": [
    "m = [round(x, 4) for x in np.linspace(0.01, 0.5, 100)]\n",
    "n = [round(x, 1) for x in np.linspace(0, 360, 50)]\n",
    "o = [round(x, 4) for x in np.linspace(-0.5, 0.5, 50)]"
   ]
  },
  {
   "cell_type": "code",
   "execution_count": 4,
   "id": "2021b985",
   "metadata": {},
   "outputs": [
    {
     "name": "stdout",
     "output_type": "stream",
     "text": [
      "Iteration 26899 corresponds to indices: i=10, j=37, k=49\n"
     ]
    }
   ],
   "source": [
    "# If you know your iteration number (0-based)\n",
    "iteration = 26899  # Replace with your actual iteration\n",
    "\n",
    "# Calculate indices\n",
    "total_k = len(o)  # 50\n",
    "total_j = len(n)  # 50\n",
    "\n",
    "i = iteration // (total_j * total_k)\n",
    "remaining = iteration % (total_j * total_k)\n",
    "j = remaining // total_k\n",
    "k = remaining % total_k\n",
    "\n",
    "print(f\"Iteration {iteration} corresponds to indices: i={i}, j={j}, k={k}\")"
   ]
  },
  {
   "cell_type": "code",
   "execution_count": null,
   "id": "b036bc78",
   "metadata": {},
   "outputs": [],
   "source": [
    "model_output_dir = '/Users/ainsleylewis/Documents/Astronomy/IllustrisTNG Lens Modelling/Test'\n",
    "model_name = f'SIE_POS_SHEAR_{m[i]}_{n[j]}_{o[k]}'\n",
    "model_path = os.path.join(model_output_dir, model_name)\n",
    "\n",
    "\n",
    "# --- Model Generation ---\n",
    "glafic.init(0.3, 0.7, -1.0, 0.7, model_path, 20.0, 20.0, 21.56, 21.56, 0.01, 0.01, 1, verb=0)\n",
    "glafic.set_secondary('chi2_splane 1', verb=0)\n",
    "glafic.set_secondary('chi2_checknimg 1', verb=0)\n",
    "glafic.set_secondary('chi2_restart   -1', verb=0)\n",
    "glafic.set_secondary('chi2_usemag    1', verb=0)\n",
    "glafic.set_secondary('hvary          0', verb=0)\n",
    "glafic.set_secondary('ran_seed -122000', verb=0)\n",
    "glafic.startup_setnum(2, 0, 1)\n",
    "glafic.set_lens(1, 'sie', 0.261343256161012, 1.549839e+02, 20.78, 20.78, 0.107, 23.38, 0.0, 0.0)\n",
    "glafic.set_lens(2, 'pert', 0.261343256161012, 1.0, 20.78, 20.78, m[i], n[j], 0.0, o[k])\n",
    "glafic.set_point(1, 1.0, 20.78, 20.78)\n",
    "glafic.setopt_lens(1, 0, 1, 1, 1, 1, 1, 0, 0)\n",
    "glafic.setopt_lens(2, 0, 0, 0, 0, 0, 0, 0, 0)\n",
    "glafic.setopt_point(1, 0, 1, 1)\n",
    "glafic.model_init(verb=0)\n",
    "glafic.readobs_point('/Users/ainsleylewis/Documents/Astronomy/IllustrisTNG Lens Modelling/obs_point/obs_point_(POS).dat')\n",
    "glafic.optimize()\n",
    "glafic.findimg()\n",
    "glafic.writecrit(1.0)\n",
    "glafic.writelens(1.0)\n",
    "glafic.quit()"
   ]
  }
 ],
 "metadata": {
  "kernelspec": {
   "display_name": "Python 3",
   "language": "python",
   "name": "python3"
  },
  "language_info": {
   "codemirror_mode": {
    "name": "ipython",
    "version": 3
   },
   "file_extension": ".py",
   "mimetype": "text/x-python",
   "name": "python",
   "nbconvert_exporter": "python",
   "pygments_lexer": "ipython3",
   "version": "3.11.5"
  }
 },
 "nbformat": 4,
 "nbformat_minor": 5
}
