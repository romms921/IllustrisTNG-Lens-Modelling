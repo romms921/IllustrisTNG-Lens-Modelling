{
 "cells": [
  {
   "cell_type": "code",
   "execution_count": 1,
   "id": "9f7d6019",
   "metadata": {},
   "outputs": [],
   "source": [
    "import numpy as np"
   ]
  },
  {
   "cell_type": "code",
   "execution_count": 3,
   "id": "05ed68e8",
   "metadata": {},
   "outputs": [],
   "source": [
    "m = [round(x, 4) for x in np.linspace(0.01, 0.5, 100)]\n",
    "n = [round(x, 1) for x in np.linspace(0, 360, 50)]\n",
    "o = [round(x, 4) for x in np.linspace(-0.5, 0.5, 50)]"
   ]
  },
  {
   "cell_type": "code",
   "execution_count": 4,
   "id": "2021b985",
   "metadata": {},
   "outputs": [
    {
     "name": "stdout",
     "output_type": "stream",
     "text": [
      "Iteration 26899 corresponds to indices: i=10, j=37, k=49\n"
     ]
    }
   ],
   "source": [
    "# If you know your iteration number (0-based)\n",
    "iteration = 26899  # Replace with your actual iteration\n",
    "\n",
    "# Calculate indices\n",
    "total_k = len(o)  # 50\n",
    "total_j = len(n)  # 50\n",
    "\n",
    "i = iteration // (total_j * total_k)\n",
    "remaining = iteration % (total_j * total_k)\n",
    "j = remaining // total_k\n",
    "k = remaining % total_k\n",
    "\n",
    "print(f\"Iteration {iteration} corresponds to indices: i={i}, j={j}, k={k}\")"
   ]
  }
 ],
 "metadata": {
  "kernelspec": {
   "display_name": "Python 3",
   "language": "python",
   "name": "python3"
  },
  "language_info": {
   "codemirror_mode": {
    "name": "ipython",
    "version": 3
   },
   "file_extension": ".py",
   "mimetype": "text/x-python",
   "name": "python",
   "nbconvert_exporter": "python",
   "pygments_lexer": "ipython3",
   "version": "3.11.5"
  }
 },
 "nbformat": 4,
 "nbformat_minor": 5
}
