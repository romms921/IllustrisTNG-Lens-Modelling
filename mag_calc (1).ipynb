{
 "cells": [
  {
   "cell_type": "code",
   "execution_count": 9,
   "id": "241cd29f",
   "metadata": {},
   "outputs": [],
   "source": [
    "import astropy.cosmology.units as u\n",
    "from astropy.cosmology import Planck15 as cosmo\n",
    "import numpy as np\n",
    "from astropy.io import fits\n",
    "import pandas as pd"
   ]
  },
  {
   "cell_type": "code",
   "execution_count": 7,
   "id": "dd8c0fc1",
   "metadata": {},
   "outputs": [
    {
     "name": "stdout",
     "output_type": "stream",
     "text": [
      "Filename: Rommulus_withLight_Mock_i2_SNIa_z1_cusp.fits\n",
      "No.    Name      Ver    Type      Cards   Dimensions   Format\n",
      "  0  PRIMARY       1 PrimaryHDU      37   (1039, 1039, 6)   float64   \n"
     ]
    }
   ],
   "source": [
    "data = fits.open('Rommulus_withLight_Mock_i2_SNIa_z1_cusp.fits')\n",
    "data.info()"
   ]
  },
  {
   "cell_type": "code",
   "execution_count": 8,
   "id": "e6adf608",
   "metadata": {},
   "outputs": [
    {
     "data": {
      "text/plain": [
       "SIMPLE  =                    T / conforms to FITS standard                      \n",
       "BITPIX  =                  -64 / array data type                                \n",
       "NAXIS   =                    3 / number of array dimensions                     \n",
       "NAXIS1  =                 1039                                                  \n",
       "NAXIS2  =                 1039                                                  \n",
       "NAXIS3  =                    6                                                  \n",
       "EXTEND  =                    T                                                  \n",
       "BUNIT   = 'electron/s'                                                          \n",
       "TELESCOP= 'HST     '                                                            \n",
       "INSTRUME= 'WFC3    '                                                            \n",
       "FILTER  = 'SDSS-r (F625W)'                                                      \n",
       "PHOTFLAM=              1.2E-19 / erg/cm**2/AA/electron                          \n",
       "WL_PIVOT=               6266.2 / AA                                             \n",
       "EXPT    =                  600 / seconds (lens images active)                   \n",
       "EXPT2   =                 2000 / seconds (lens images faded)                    \n",
       "GAIN    =                  1.6                                                  \n",
       "READNSE =                 3.08 / readnoise                                      \n",
       "BIAS    =               2500.0                                                  \n",
       "PIXSIZE =                 0.04 / arcsec/pix                                     \n",
       "CRPIX1  =                519.5 / Pixel coordinate of reference point            \n",
       "CRPIX2  =                519.5 / Pixel coordinate of reference point            \n",
       "CD1_1   =                 0.04 / arcsec                                         \n",
       "CD2_2   =                 0.04 / arcsec                                         \n",
       "CD1_2   =                    0                                                  \n",
       "CD2_1   =                    0                                                  \n",
       "PROJ    = 'i2      '                                                            \n",
       "OBJECT  = 'SNIa    '                                                            \n",
       "HIERARCH Source Absolute AB Magnitude = -19.3                                   \n",
       "Z_LENS  =    0.261343256161012                                                  \n",
       "Z_SOURCE=                    1                                                  \n",
       "COSMO   = 'Planck15'                                                            \n",
       "CUBE_1  = 'Mock observation of lens images with light'                          \n",
       "CUBE_2  = 'Noisemap of cube_1'                                                  \n",
       "CUBE_3  = 'Mock observation of the light (mimic post-SNIa)'                     \n",
       "CUBE_4  = 'Noisemap of cube_3'                                                  \n",
       "CUBE_5  = 'cube_1 - cube_3'                                                     \n",
       "CUBE_6  = 'Noisemap of cube_5'                                                  "
      ]
     },
     "execution_count": 8,
     "metadata": {},
     "output_type": "execute_result"
    }
   ],
   "source": [
    "data[0].header"
   ]
  },
  {
   "cell_type": "code",
   "execution_count": 2,
   "id": "ebe554c9",
   "metadata": {},
   "outputs": [],
   "source": [
    "def flux2mag(M, z, flux):\n",
    "    PHOTFLAM = data[0].header['PHOTFLAM']\n",
    "    WL_PIVOT=  data[0].header['WL_PIVOT']\n",
    "    \n",
    "    #find the zero point\n",
    "    f_PHOTZPT = 2.49767E-9 #erg/cm**2/s/AA, filter: SDSS-r\n",
    "    f0_PHOTZPT = f_PHOTZPT * (1E-3) * WL_PIVOT\n",
    "    PHOTZPT = (2.5)*np.log10(f0_PHOTZPT)\n",
    "    \n",
    "    #theoratical apparent magnitude of this SNIa\n",
    "    Dls = (cosmo.luminosity_distance(z)).value*np.power(10,6) #luminosity distance of SNIa\n",
    "    ms = M + 5*np.log10(Dls/10)\n",
    "    print('ms = ' + str(ms))\n",
    "    \n",
    "    #flux to apparent magnitude\n",
    "    flux0 = flux*PHOTFLAM*WL_PIVOT #erg/cm**2/s\n",
    "    f = flux0*(1E-3) #joules/m**2/s\n",
    "    m = -(2.5)*np.log10(f) + PHOTZPT\n",
    "    print('m = ' + str(m))\n",
    "    \n",
    "    #convert magtitude difference to magnification\n",
    "    m_diff = m-ms\n",
    "    base = np.power(10, 1/2.5)\n",
    "    mag = np.power(base,abs(m_diff))\n",
    "    \n",
    "    return mag"
   ]
  },
  {
   "cell_type": "code",
   "execution_count": 10,
   "id": "d6c476c9",
   "metadata": {},
   "outputs": [
    {
     "data": {
      "text/html": [
       "<div>\n",
       "<style scoped>\n",
       "    .dataframe tbody tr th:only-of-type {\n",
       "        vertical-align: middle;\n",
       "    }\n",
       "\n",
       "    .dataframe tbody tr th {\n",
       "        vertical-align: top;\n",
       "    }\n",
       "\n",
       "    .dataframe thead th {\n",
       "        text-align: right;\n",
       "    }\n",
       "</style>\n",
       "<table border=\"1\" class=\"dataframe\">\n",
       "  <thead>\n",
       "    <tr style=\"text-align: right;\">\n",
       "      <th></th>\n",
       "      <th>x</th>\n",
       "      <th>x_err</th>\n",
       "      <th>y</th>\n",
       "      <th>y_err</th>\n",
       "      <th>flux</th>\n",
       "      <th>flux_err</th>\n",
       "      <th>image</th>\n",
       "    </tr>\n",
       "  </thead>\n",
       "  <tbody>\n",
       "    <tr>\n",
       "      <th>0</th>\n",
       "      <td>61.403103</td>\n",
       "      <td>0.018381</td>\n",
       "      <td>49.589840</td>\n",
       "      <td>0.018376</td>\n",
       "      <td>11.870106</td>\n",
       "      <td>0.183270</td>\n",
       "      <td>1</td>\n",
       "    </tr>\n",
       "    <tr>\n",
       "      <th>1</th>\n",
       "      <td>73.750355</td>\n",
       "      <td>0.016142</td>\n",
       "      <td>66.015834</td>\n",
       "      <td>0.016327</td>\n",
       "      <td>16.100805</td>\n",
       "      <td>0.216334</td>\n",
       "      <td>2</td>\n",
       "    </tr>\n",
       "    <tr>\n",
       "      <th>2</th>\n",
       "      <td>51.829783</td>\n",
       "      <td>0.019070</td>\n",
       "      <td>68.241797</td>\n",
       "      <td>0.018977</td>\n",
       "      <td>14.733413</td>\n",
       "      <td>0.232599</td>\n",
       "      <td>3</td>\n",
       "    </tr>\n",
       "    <tr>\n",
       "      <th>3</th>\n",
       "      <td>62.520786</td>\n",
       "      <td>0.008990</td>\n",
       "      <td>73.452096</td>\n",
       "      <td>0.008993</td>\n",
       "      <td>37.469106</td>\n",
       "      <td>0.283404</td>\n",
       "      <td>4</td>\n",
       "    </tr>\n",
       "  </tbody>\n",
       "</table>\n",
       "</div>"
      ],
      "text/plain": [
       "           x     x_err          y     y_err       flux  flux_err  image\n",
       "0  61.403103  0.018381  49.589840  0.018376  11.870106  0.183270      1\n",
       "1  73.750355  0.016142  66.015834  0.016327  16.100805  0.216334      2\n",
       "2  51.829783  0.019070  68.241797  0.018977  14.733413  0.232599      3\n",
       "3  62.520786  0.008990  73.452096  0.008993  37.469106  0.283404      4"
      ]
     },
     "execution_count": 10,
     "metadata": {},
     "output_type": "execute_result"
    }
   ],
   "source": [
    "pred = pd.read_csv('pred.csv')\n",
    "pred"
   ]
  },
  {
   "cell_type": "code",
   "execution_count": 14,
   "id": "4b810389",
   "metadata": {},
   "outputs": [],
   "source": [
    "######change here########\n",
    "M = data[0].header['HIERARCH Source Absolute AB Magnitude']\n",
    "z = data[0].header['Z_SOURCE']\n",
    "flux = np.array(pred['flux'])"
   ]
  },
  {
   "cell_type": "code",
   "execution_count": 15,
   "id": "010c8965",
   "metadata": {},
   "outputs": [
    {
     "name": "stdout",
     "output_type": "stream",
     "text": [
      "ms = 24.859927839860408\n",
      "m = [23.10974805 22.77876558 22.8751261  21.86170121]\n",
      "The magnifications are [ 5.013  6.799  6.222 15.823].\n"
     ]
    }
   ],
   "source": [
    "mag = np.round(flux2mag(M, z, flux),3)\n",
    "print('The magnifications are '+ str(mag) + '.')"
   ]
  },
  {
   "cell_type": "code",
   "execution_count": 16,
   "id": "ee7fa5e7",
   "metadata": {},
   "outputs": [
    {
     "name": "stdout",
     "output_type": "stream",
     "text": [
      "The flux ratios are [0.317 0.43  0.393 1.   ].\n",
      "The magnification ratios are [0.317 0.43  0.393 1.   ].\n"
     ]
    }
   ],
   "source": [
    "max_flux = np.max(flux)\n",
    "flux_ratio = flux/max_flux\n",
    "print('The flux ratios are '+ str(np.round(flux_ratio,3)) + '.')\n",
    "\n",
    "max_mag = np.max(mag)\n",
    "mag_ratio = mag/max_mag\n",
    "print('The magnification ratios are '+ str(np.round(mag_ratio,3)) + '.')"
   ]
  }
 ],
 "metadata": {
  "kernelspec": {
   "display_name": "Python 3",
   "language": "python",
   "name": "python3"
  },
  "language_info": {
   "codemirror_mode": {
    "name": "ipython",
    "version": 3
   },
   "file_extension": ".py",
   "mimetype": "text/x-python",
   "name": "python",
   "nbconvert_exporter": "python",
   "pygments_lexer": "ipython3",
   "version": "3.11.5"
  }
 },
 "nbformat": 4,
 "nbformat_minor": 5
}
