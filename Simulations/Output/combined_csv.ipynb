{
 "cells": [
  {
   "cell_type": "code",
   "execution_count": 1,
   "id": "686125f7",
   "metadata": {},
   "outputs": [],
   "source": [
    "import numpy as np\n",
    "import pandas as pd\n",
    "import matplotlib.pyplot as plt\n",
    "import os"
   ]
  },
  {
   "cell_type": "code",
   "execution_count": 5,
   "id": "a9bb3962",
   "metadata": {},
   "outputs": [
    {
     "name": "stdout",
     "output_type": "stream",
     "text": [
      "Loaded Sim 3_summary_1.csv with shape (100000, 16)\n",
      "Loaded Sim 3_summary_2.csv with shape (100000, 16)\n",
      "Loaded Sim 3_summary_3.csv with shape (100000, 16)\n",
      "Loaded Sim 3_summary_4.csv with shape (100000, 16)\n",
      "Loaded Sim 3_summary_5.csv with shape (100000, 16)\n",
      "Loaded Sim 3_summary_6.csv with shape (100000, 16)\n",
      "Loaded Sim 3_summary_7.csv with shape (100000, 16)\n",
      "Loaded Sim 3_summary_8.csv with shape (100000, 16)\n",
      "Loaded Sim 3_summary_9.csv with shape (100000, 16)\n",
      "Loaded Sim 3_summary_10.csv with shape (100000, 16)\n"
     ]
    }
   ],
   "source": [
    "SIM_NAME = 'Sim 3'\n",
    "NUM_FILES = 10\n",
    "\n",
    "def load_and_combine_simulation_data(sim_name, num_files):\n",
    "    # Rename the first file to match the format\n",
    "    first_file_name = f\"{sim_name}_summary.csv\"\n",
    "    new_first_file_name = f\"{sim_name}_summary_1.csv\"\n",
    "    if os.path.exists(first_file_name):\n",
    "        os.rename(first_file_name, new_first_file_name)\n",
    "\n",
    "    combined_data = pd.DataFrame()\n",
    "    for i in range(num_files):\n",
    "        file_name = f\"{sim_name}_summary_{i + 1}.csv\"\n",
    "        data = pd.read_csv(file_name, header=0)\n",
    "        print(f\"Loaded {file_name} with shape {data.shape}\")\n",
    "        combined_data = pd.concat([combined_data, data], ignore_index=True)\n",
    "    \n",
    "    combined_data.to_csv(f\"{sim_name}.csv\", index=False)\n",
    "    return combined_data\n",
    "\n",
    "combined_df = load_and_combine_simulation_data(SIM_NAME, NUM_FILES)\n"
   ]
  }
 ],
 "metadata": {
  "kernelspec": {
   "display_name": "Python 3",
   "language": "python",
   "name": "python3"
  },
  "language_info": {
   "codemirror_mode": {
    "name": "ipython",
    "version": 3
   },
   "file_extension": ".py",
   "mimetype": "text/x-python",
   "name": "python",
   "nbconvert_exporter": "python",
   "pygments_lexer": "ipython3",
   "version": "3.11.5"
  }
 },
 "nbformat": 4,
 "nbformat_minor": 5
}
