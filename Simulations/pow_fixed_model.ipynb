{
 "cells": [
  {
   "cell_type": "code",
   "execution_count": null,
   "id": "803ecad2",
   "metadata": {},
   "outputs": [],
   "source": [
    "import numba as nb\n",
    "import pandas as pd\n",
    "import numpy as np\n",
    "import matplotlib.pyplot as plt\n",
    "plt.rcParams['font.sans-serif'] = ['Times New Roman']\n",
    "plt.rcParams['figure.dpi'] = 300\n",
    "import seaborn as sns\n",
    "from scipy.interpolate import griddata\n",
    "import os\n",
    "import shutil\n",
    "import moviepy as mp"
   ]
  },
  {
   "cell_type": "code",
   "execution_count": null,
   "id": "736e95f3",
   "metadata": {},
   "outputs": [],
   "source": [
    "SIM_NAME = 'Sim 2'\n",
    "\n",
    "data = pd.read_csv(f'Output/{SIM_NAME}.csv', header=0)\n",
    "data"
   ]
  },
  {
   "cell_type": "code",
   "execution_count": null,
   "id": "599d8e32",
   "metadata": {},
   "outputs": [],
   "source": [
    "data['pos_rms'] = data['pos_rms'].fillna(1)\n",
    "data['mag_rms'] = data['mag_rms'].fillna(6000)"
   ]
  }
 ],
 "metadata": {
  "language_info": {
   "name": "python"
  }
 },
 "nbformat": 4,
 "nbformat_minor": 5
}
