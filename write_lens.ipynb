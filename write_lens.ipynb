{
 "cells": [
  {
   "cell_type": "code",
   "execution_count": 124,
   "id": "0986cfd8",
   "metadata": {},
   "outputs": [],
   "source": [
    "import numpy as np\n",
    "import matplotlib.pyplot as plt\n",
    "plt.rcParams['font.sans-serif'] = ['Times New Roman']\n",
    "plt.rcParams['figure.dpi'] = 500\n",
    "from mpl_toolkits.axes_grid1.inset_locator import inset_axes\n",
    "from matplotlib.colors import LogNorm\n",
    "from matplotlib.patches import FancyArrowPatch\n",
    "from astropy.visualization import SqrtStretch, LinearStretch, LogStretch\n",
    "from astropy.visualization.mpl_normalize import ImageNormalize\n",
    "import pandas as pd\n",
    "import re\n",
    "from astropy.io import fits\n",
    "import os\n",
    "from scipy.ndimage import map_coordinates\n",
    "from scipy.stats import binned_statistic\n",
    "from scipy.spatial.distance import cdist\n",
    "from scipy.optimize import linear_sum_assignment\n",
    "\n",
    "from matplotlib.lines import Line2D\n",
    "os.chdir(\"/Users/ainsleylewis/Documents/Astronomy/IllustrisTNG Lens Modelling\")"
   ]
  },
  {
   "cell_type": "code",
   "execution_count": 125,
   "id": "4ec5c4ef",
   "metadata": {},
   "outputs": [
    {
     "data": {
      "text/plain": [
       "['------------------------------------------\\n',\n",
       " 'optimize ndim=9\\n',\n",
       " 'run 1: 324 lens models calculated\\n',\n",
       " 'chi^2 = 4.779190e+02  [N_data(extend): 0]\\n',\n",
       " ' extend     : 0.000000e+00 0.000000e+00 0.000000e+00\\n',\n",
       " ' point no 1 : 4.779190e+02 4.779190e+02 0.000000e+00 0.000000e+00 0.000000e+00\\n',\n",
       " ' lens prior : 0.000000e+00\\n',\n",
       " ' map prior  : 0.000000e+00\\n',\n",
       " '\\n',\n",
       " 'omega = 0.3000  lambda = 0.7000  weos = -1.0000  hubble = 0.7000\\n',\n",
       " '\\n',\n",
       " 'lens   pow     0.2613  1.000000e+00  2.080827e+01  2.077025e+01  7.014046e-02 -1.381826e+01  4.892524e-01  2.500000e+00 \\n',\n",
       " 'lens   pert    0.2613  1.000000e+00  2.090000e+01  2.064000e+01  5.670990e-03  2.386343e+01  0.000000e+00  0.000000e+00 \\n',\n",
       " 'point  1.0000  2.080918e+01  2.077863e+01 \\n',\n",
       " '------------------------------------------\\n',\n",
       " '------------------------------------------\\n',\n",
       " 'optimize ndim=9\\n',\n",
       " 'run 2: 1120 lens models calculated\\n',\n",
       " 'chi^2 = 2.576856e-06  [N_data(extend): 0]\\n',\n",
       " ' extend     : 0.000000e+00 0.000000e+00 0.000000e+00\\n',\n",
       " ' point no 1 : 2.576856e-06 2.576856e-06 0.000000e+00 0.000000e+00 0.000000e+00\\n',\n",
       " ' lens prior : 0.000000e+00\\n',\n",
       " ' map prior  : 0.000000e+00\\n',\n",
       " '\\n',\n",
       " 'omega = 0.3000  lambda = 0.7000  weos = -1.0000  hubble = 0.7000\\n',\n",
       " '\\n',\n",
       " 'lens   pow     0.2613  1.000000e+00  2.081134e+01  2.075441e+01  3.070144e-01  6.294977e+00  4.918184e-01  2.500000e+00 \\n',\n",
       " 'lens   pert    0.2613  1.000000e+00  2.090000e+01  2.064000e+01  3.354290e-02 -3.308407e+01  0.000000e+00  0.000000e+00 \\n',\n",
       " 'point  1.0000  2.082164e+01  2.079196e+01 \\n',\n",
       " '------------------------------------------\\n',\n",
       " '------------------------------------------\\n',\n",
       " 'optimize ndim=9\\n',\n",
       " 'run 3: 99 lens models calculated\\n',\n",
       " 'chi^2 = 2.178829e-06  [N_data(extend): 0]\\n',\n",
       " ' extend     : 0.000000e+00 0.000000e+00 0.000000e+00\\n',\n",
       " ' point no 1 : 2.178829e-06 2.178829e-06 0.000000e+00 0.000000e+00 0.000000e+00\\n',\n",
       " ' lens prior : 0.000000e+00\\n',\n",
       " ' map prior  : 0.000000e+00\\n',\n",
       " '\\n',\n",
       " 'omega = 0.3000  lambda = 0.7000  weos = -1.0000  hubble = 0.7000\\n',\n",
       " '\\n',\n",
       " 'lens   pow     0.2613  1.000000e+00  2.081134e+01  2.075441e+01  3.070198e-01  6.295211e+00  4.918186e-01  2.500000e+00 \\n',\n",
       " 'lens   pert    0.2613  1.000000e+00  2.090000e+01  2.064000e+01  3.354417e-02 -3.308404e+01  0.000000e+00  0.000000e+00 \\n',\n",
       " 'point  1.0000  2.082164e+01  2.079196e+01 \\n',\n",
       " '------------------------------------------\\n',\n",
       " '------------------------------------------\\n',\n",
       " 'optimize ndim=9\\n',\n",
       " 'run 4: 102 lens models calculated\\n',\n",
       " 'chi^2 = 2.178829e-06  [N_data(extend): 0]\\n',\n",
       " ' extend     : 0.000000e+00 0.000000e+00 0.000000e+00\\n',\n",
       " ' point no 1 : 2.178829e-06 2.178829e-06 0.000000e+00 0.000000e+00 0.000000e+00\\n',\n",
       " ' lens prior : 0.000000e+00\\n',\n",
       " ' map prior  : 0.000000e+00\\n',\n",
       " '\\n',\n",
       " 'omega = 0.3000  lambda = 0.7000  weos = -1.0000  hubble = 0.7000\\n',\n",
       " '\\n',\n",
       " 'lens   pow     0.2613  1.000000e+00  2.081134e+01  2.075441e+01  3.070198e-01  6.295211e+00  4.918186e-01  2.500000e+00 \\n',\n",
       " 'lens   pert    0.2613  1.000000e+00  2.090000e+01  2.064000e+01  3.354417e-02 -3.308404e+01  0.000000e+00  0.000000e+00 \\n',\n",
       " 'point  1.0000  2.082164e+01  2.079196e+01 \\n',\n",
       " '------------------------------------------\\n']"
      ]
     },
     "execution_count": 125,
     "metadata": {},
     "output_type": "execute_result"
    }
   ],
   "source": [
    "# Model Opening\n",
    "model_path = 'POW+SHEAR+FIX'\n",
    "model_ver = 'POW_POS_SHEAR'\n",
    "lens_name = f'\"{model_path}\"'\n",
    "\n",
    "if 'POS+FLUX' in model_ver:\n",
    "    constraint = 'pos_flux'\n",
    "elif 'POS' in model_ver:\n",
    "    constraint = 'pos'\n",
    "\n",
    "\n",
    "# Load the data\n",
    "with open(model_path + '/' + model_ver + '_optresult' + '.dat', 'r') as file:\n",
    "    opt_result = file.readlines()\n",
    "\n",
    "opt_result"
   ]
  },
  {
   "cell_type": "code",
   "execution_count": 126,
   "id": "8afd3536",
   "metadata": {},
   "outputs": [
    {
     "name": "stdout",
     "output_type": "stream",
     "text": [
      "Last 'optimize' line found at index: 46\n"
     ]
    },
    {
     "data": {
      "text/plain": [
       "['run 4: 102 lens models calculated\\n',\n",
       " 'chi^2 = 2.178829e-06  [N_data(extend): 0]\\n',\n",
       " ' extend     : 0.000000e+00 0.000000e+00 0.000000e+00\\n',\n",
       " ' point no 1 : 2.178829e-06 2.178829e-06 0.000000e+00 0.000000e+00 0.000000e+00\\n',\n",
       " ' lens prior : 0.000000e+00\\n',\n",
       " ' map prior  : 0.000000e+00\\n',\n",
       " '\\n',\n",
       " 'omega = 0.3000  lambda = 0.7000  weos = -1.0000  hubble = 0.7000\\n',\n",
       " '\\n',\n",
       " 'lens   pow     0.2613  1.000000e+00  2.081134e+01  2.075441e+01  3.070198e-01  6.295211e+00  4.918186e-01  2.500000e+00 \\n',\n",
       " 'lens   pert    0.2613  1.000000e+00  2.090000e+01  2.064000e+01  3.354417e-02 -3.308404e+01  0.000000e+00  0.000000e+00 \\n',\n",
       " 'point  1.0000  2.082164e+01  2.079196e+01 \\n',\n",
       " '------------------------------------------\\n']"
      ]
     },
     "execution_count": 126,
     "metadata": {},
     "output_type": "execute_result"
    }
   ],
   "source": [
    "# Find the last line with 'optimize' in it\n",
    "last_optimize_index = None\n",
    "for idx in range(len(opt_result) - 1, -1, -1):\n",
    "    if 'optimize' in opt_result[idx]:\n",
    "        last_optimize_index = idx\n",
    "        last_optimize_line = opt_result[idx]\n",
    "        break\n",
    "if last_optimize_index is None:\n",
    "    raise ValueError(\"No line with 'optimize' found in the file.\")\n",
    "\n",
    "print(f\"Last 'optimize' line found at index: {last_optimize_index}\")\n",
    "\n",
    "# Extract everything after the last 'optimize' line\n",
    "opt_result = opt_result[last_optimize_index + 1:]\n",
    "\n",
    "opt_result\n"
   ]
  },
  {
   "cell_type": "code",
   "execution_count": 127,
   "id": "250b45f6",
   "metadata": {},
   "outputs": [
    {
     "name": "stdout",
     "output_type": "stream",
     "text": [
      "Number of 'lens' lines: 2\n",
      "['lens', 'pow', '0.2613', '1.000000e+00', '2.081134e+01', '2.075441e+01', '3.070198e-01', '6.295211e+00', '4.918186e-01', '2.500000e+00']\n",
      "['lens', 'pert', '0.2613', '1.000000e+00', '2.090000e+01', '2.064000e+01', '3.354417e-02', '-3.308404e+01', '0.000000e+00', '0.000000e+00']\n",
      "Number of lens profiles: 2\n"
     ]
    },
    {
     "data": {
      "text/plain": [
       "{'pow': [1.0, 20.81134, 20.75441, 0.3070198, 6.295211, 0.4918186, 2.5],\n",
       " 'pert': [1.0, 20.9, 20.64, 0.03354417, -33.08404, 0.0, 0.0]}"
      ]
     },
     "execution_count": 127,
     "metadata": {},
     "output_type": "execute_result"
    }
   ],
   "source": [
    "# Count the number of lines that start with 'lens'\n",
    "lens_count = sum(1 for line in opt_result if line.startswith('lens'))\n",
    "print(f\"Number of 'lens' lines: {lens_count}\")\n",
    "\n",
    "# Initialize a dictionary to hold the lens parameters\n",
    "lens_params_dict = {}\n",
    "\n",
    "# Extract the lens parameters\n",
    "lens_params = []\n",
    "for line in opt_result:\n",
    "    if line.startswith('lens'):\n",
    "        # Extract the line and split it into parts\n",
    "        parts = re.split(r'\\s+', line.strip())\n",
    "        print(parts)\n",
    "        # Extract the lens name and parameters\n",
    "        lens_name = parts[1]\n",
    "        params = [float(x) for x in parts[2:]]\n",
    "\n",
    "        # Store the parameters in the dictionary, allowing duplicate names as separate entries\n",
    "        key = lens_name\n",
    "        count = 1\n",
    "        while key in lens_params_dict:\n",
    "            key = f\"{lens_name}_{count}\"\n",
    "            count += 1\n",
    "        lens_params_dict[key] = params\n",
    "        lens_params.append((key, params))\n",
    "\n",
    "# Remove the first lens parameter\n",
    "if lens_params:\n",
    "    for i in range(len(lens_params)):\n",
    "        lens_name, params = lens_params[i]\n",
    "        lens_params_dict[lens_name] = params[1:]\n",
    "\n",
    "\n",
    "# Number of len profiles\n",
    "num_lens_profiles = len(lens_params_dict)\n",
    "print(f\"Number of lens profiles: {num_lens_profiles}\")\n",
    "    \n",
    "lens_params_dict"
   ]
  },
  {
   "cell_type": "code",
   "execution_count": 128,
   "id": "ffda6c79",
   "metadata": {},
   "outputs": [
    {
     "name": "stdout",
     "output_type": "stream",
     "text": [
      "['point', '1.0000', '2.082164e+01', '2.079196e+01']\n"
     ]
    },
    {
     "data": {
      "text/plain": [
       "[-19.78, 0.04163999999999746, 0.011959999999998416]"
      ]
     },
     "execution_count": 128,
     "metadata": {},
     "output_type": "execute_result"
    }
   ],
   "source": [
    "# Initialize a dictionary to hold the lens parameters\n",
    "set_point_dict = {}\n",
    "\n",
    "# Extract the lens parameters\n",
    "set_points = []\n",
    "for line in opt_result:\n",
    "    if line.startswith('point'):\n",
    "        # Extract the line and split it into parts\n",
    "        parts = re.split(r'\\s+', line.strip())\n",
    "        print(parts)\n",
    "\n",
    "set_point_values = [float(x) for x in parts[1:]]\n",
    "\n",
    "for i in range(len(set_point_values)):\n",
    "    set_point_values[i] = set_point_values[i] -20.78\n",
    "\n",
    "set_point_values"
   ]
  },
  {
   "cell_type": "code",
   "execution_count": 129,
   "id": "f3e9b6a1",
   "metadata": {},
   "outputs": [],
   "source": [
    "# Use generic column names: param1, param2, ...\n",
    "df = pd.DataFrame()\n",
    "rows = []\n",
    "max_param_len = 0\n",
    "\n",
    "for lens_name, params in lens_params_dict.items():\n",
    "    row = {'Lens Name': lens_name}\n",
    "    for i, val in enumerate(params):\n",
    "        row[f'param{i+1}'] = val\n",
    "    rows.append(row)\n",
    "    if len(params) > max_param_len:\n",
    "        max_param_len = len(params)\n",
    "\n",
    "columns = ['Lens Name'] + [f'param{i+1}' for i in range(max_param_len)]\n",
    "df = pd.DataFrame(rows, columns=columns)\n",
    "\n",
    "# df['Lens Name'] = df['Lens Name'].apply(lambda x: f'\"{x}\"')"
   ]
  },
  {
   "cell_type": "code",
   "execution_count": 130,
   "id": "b3634e7f",
   "metadata": {},
   "outputs": [],
   "source": [
    "for i in range(len(df)):\n",
    "    if df['Lens Name'][i] == 'sers_1':\n",
    "        df['Lens Name'][i] = 'sers'"
   ]
  },
  {
   "cell_type": "code",
   "execution_count": 131,
   "id": "15deadbb",
   "metadata": {},
   "outputs": [
    {
     "data": {
      "application/vnd.microsoft.datawrangler.viewer.v0+json": {
       "columns": [
        {
         "name": "index",
         "rawType": "int64",
         "type": "integer"
        },
        {
         "name": "Lens Name",
         "rawType": "object",
         "type": "string"
        },
        {
         "name": "param1",
         "rawType": "float64",
         "type": "float"
        },
        {
         "name": "param2",
         "rawType": "float64",
         "type": "float"
        },
        {
         "name": "param3",
         "rawType": "float64",
         "type": "float"
        },
        {
         "name": "param4",
         "rawType": "float64",
         "type": "float"
        },
        {
         "name": "param5",
         "rawType": "float64",
         "type": "float"
        },
        {
         "name": "param6",
         "rawType": "float64",
         "type": "float"
        },
        {
         "name": "param7",
         "rawType": "float64",
         "type": "float"
        }
       ],
       "ref": "9f05c7ee-db2c-41d2-835b-c33762f72707",
       "rows": [
        [
         "0",
         "pow",
         "1.0",
         "0.031340000000000146",
         "-0.025590000000001112",
         "0.3070198",
         "6.295211",
         "0.4918186",
         "2.5"
        ],
        [
         "1",
         "pert",
         "1.0",
         "0.11999999999999744",
         "-0.14000000000000057",
         "0.03354417",
         "-33.08404",
         "0.0",
         "0.0"
        ]
       ],
       "shape": {
        "columns": 8,
        "rows": 2
       }
      },
      "text/html": [
       "<div>\n",
       "<style scoped>\n",
       "    .dataframe tbody tr th:only-of-type {\n",
       "        vertical-align: middle;\n",
       "    }\n",
       "\n",
       "    .dataframe tbody tr th {\n",
       "        vertical-align: top;\n",
       "    }\n",
       "\n",
       "    .dataframe thead th {\n",
       "        text-align: right;\n",
       "    }\n",
       "</style>\n",
       "<table border=\"1\" class=\"dataframe\">\n",
       "  <thead>\n",
       "    <tr style=\"text-align: right;\">\n",
       "      <th></th>\n",
       "      <th>Lens Name</th>\n",
       "      <th>param1</th>\n",
       "      <th>param2</th>\n",
       "      <th>param3</th>\n",
       "      <th>param4</th>\n",
       "      <th>param5</th>\n",
       "      <th>param6</th>\n",
       "      <th>param7</th>\n",
       "    </tr>\n",
       "  </thead>\n",
       "  <tbody>\n",
       "    <tr>\n",
       "      <th>0</th>\n",
       "      <td>pow</td>\n",
       "      <td>1.0</td>\n",
       "      <td>0.03134</td>\n",
       "      <td>-0.02559</td>\n",
       "      <td>0.307020</td>\n",
       "      <td>6.295211</td>\n",
       "      <td>0.491819</td>\n",
       "      <td>2.5</td>\n",
       "    </tr>\n",
       "    <tr>\n",
       "      <th>1</th>\n",
       "      <td>pert</td>\n",
       "      <td>1.0</td>\n",
       "      <td>0.12000</td>\n",
       "      <td>-0.14000</td>\n",
       "      <td>0.033544</td>\n",
       "      <td>-33.084040</td>\n",
       "      <td>0.000000</td>\n",
       "      <td>0.0</td>\n",
       "    </tr>\n",
       "  </tbody>\n",
       "</table>\n",
       "</div>"
      ],
      "text/plain": [
       "  Lens Name  param1   param2   param3    param4     param5    param6  param7\n",
       "0       pow     1.0  0.03134 -0.02559  0.307020   6.295211  0.491819     2.5\n",
       "1      pert     1.0  0.12000 -0.14000  0.033544 -33.084040  0.000000     0.0"
      ]
     },
     "execution_count": 131,
     "metadata": {},
     "output_type": "execute_result"
    }
   ],
   "source": [
    "df['param2'] = df['param2'] - 20.78\n",
    "df['param3'] = df['param3'] - 20.78\n",
    "df"
   ]
  },
  {
   "cell_type": "code",
   "execution_count": 132,
   "id": "d25c3cb5",
   "metadata": {},
   "outputs": [
    {
     "data": {
      "text/plain": [
       "['#!/usr/bin/env python\\n',\n",
       " 'import glafic\\n',\n",
       " '\\n',\n",
       " \"glafic.init(0.3, 0.7, -1.0, 0.7, 'Write Lens/POW_POS_SHEAR', -0.78, -0.78, 0.78, 0.78, 0.0012, 0.0012, 1, verb = 0)\\n\",\n",
       " '\\n',\n",
       " \"glafic.set_secondary('chi2_splane 1', verb = 0)\\n\",\n",
       " \"glafic.set_secondary('chi2_checknimg 0', verb = 0)\\n\",\n",
       " \"glafic.set_secondary('chi2_restart   -1', verb = 0)\\n\",\n",
       " \"glafic.set_secondary('chi2_usemag    1', verb = 0)\\n\",\n",
       " \"glafic.set_secondary('hvary          0', verb = 0)\\n\",\n",
       " \"glafic.set_secondary('ran_seed -122000', verb = 0)\\n\",\n",
       " '\\n',\n",
       " 'glafic.startup_setnum(2, 0, 1)\\n',\n",
       " 'glafic.set_lens(1, \"pow\", 0.261343256161012, 1.0, 0, 0, 0.220021, 10.97197, 0.4905726, 2.5)\\n',\n",
       " 'glafic.set_lens(2, \"pert\", 0.261343256161012, 1.0, 0, 0, 0.0360604, -28.24128, 0.0, 0.0)\\n',\n",
       " '# glafic.set_lens(4)\\n',\n",
       " 'glafic.set_point(1, 1.000, 0.039759999999997575, 0.010439999999999117)\\n',\n",
       " '\\n',\n",
       " 'glafic.setopt_lens(1, 0, 0, 1, 1, 1, 1, 1, 0)\\n',\n",
       " 'glafic.setopt_lens(2, 0, 1, 1, 1, 0, 0, 0, 0)\\n',\n",
       " '# glafic.setopt_lens(4, 0, 0, 0, 0, 0, 0, 0, 0)\\n',\n",
       " 'glafic.setopt_point(1, 0, 1, 1)\\n',\n",
       " '\\n',\n",
       " '# model_init needs to be done again whenever model parameters are changed\\n',\n",
       " 'glafic.model_init(verb = 0)\\n',\n",
       " '\\n',\n",
       " 'glafic.writelens(1.0)\\n',\n",
       " '\\n',\n",
       " 'glafic.quit()']"
      ]
     },
     "execution_count": 132,
     "metadata": {},
     "output_type": "execute_result"
    }
   ],
   "source": [
    "with open('write_lens' + '.py', 'r') as file:\n",
    "    py = file.readlines()\n",
    "\n",
    "py"
   ]
  },
  {
   "cell_type": "code",
   "execution_count": 133,
   "id": "d27724ca",
   "metadata": {},
   "outputs": [
    {
     "name": "stdout",
     "output_type": "stream",
     "text": [
      "xmin: -0.78, xmax: 0.78, ymin: -0.78, ymax: 0.78\n"
     ]
    }
   ],
   "source": [
    "xmin = -0.78\n",
    "xmax = 0.78\n",
    "ymin = -0.78\n",
    "ymax = 0.78 \n",
    "\n",
    "print(f\"xmin: {xmin}, xmax: {xmax}, ymin: {ymin}, ymax: {ymax}\")"
   ]
  },
  {
   "cell_type": "code",
   "execution_count": 134,
   "id": "becd6a70",
   "metadata": {},
   "outputs": [],
   "source": [
    "df['param2'] = 0\n",
    "df['param3'] = 0"
   ]
  },
  {
   "cell_type": "code",
   "execution_count": 135,
   "id": "de867b36",
   "metadata": {},
   "outputs": [
    {
     "name": "stdout",
     "output_type": "stream",
     "text": [
      "Processing for 2 lens profiles. Final state will be determined by this number.\n",
      "Found and replaced glafic.set_lens(1)\n",
      "Found and replaced glafic.set_lens(2)\n",
      "State: <=3 lenses. Ensuring 'glafic.set_lens(4)' is a commented placeholder.\n",
      "Found and replaced glafic.set_point(1)\n",
      "State: <=3 lenses. Ensuring 'glafic.setopt_lens(4)' is a commented placeholder.\n",
      "\n",
      "--- Content of updated write_lens.py ---\n",
      "#!/usr/bin/env python\n",
      "import glafic\n",
      "\n",
      "glafic.init(0.3, 0.7, -1.0, 0.7, 'Write Lens/POW_POS_SHEAR', -0.78, -0.78, 0.78, 0.78, 0.0012, 0.0012, 1, verb = 0)\n",
      "\n",
      "glafic.set_secondary('chi2_splane 1', verb = 0)\n",
      "glafic.set_secondary('chi2_checknimg 0', verb = 0)\n",
      "glafic.set_secondary('chi2_restart   -1', verb = 0)\n",
      "glafic.set_secondary('chi2_usemag    1', verb = 0)\n",
      "glafic.set_secondary('hvary          0', verb = 0)\n",
      "glafic.set_secondary('ran_seed -122000', verb = 0)\n",
      "\n",
      "glafic.startup_setnum(2, 0, 1)\n",
      "glafic.set_lens(1, \"pow\", 0.261343256161012, 1.0, 0, 0, 0.3070198, 6.295211, 0.4918186, 2.5)\n",
      "glafic.set_lens(2, \"pert\", 0.261343256161012, 1.0, 0, 0, 0.03354417, -33.08404, 0.0, 0.0)\n",
      "# glafic.set_lens(4)\n",
      "glafic.set_point(1, 1.000, 0.04163999999999746, 0.011959999999998416)\n",
      "\n",
      "glafic.setopt_lens(1, 0, 0, 1, 1, 1, 1, 1, 0)\n",
      "glafic.setopt_lens(2, 0, 1, 1, 1, 0, 0, 0, 0)\n",
      "# glafic.setopt_lens(4, 0, 0, 0, 0, 0, 0, 0, 0)\n",
      "glafic.setopt_point(1, 0, 1, 1)\n",
      "\n",
      "# model_init needs to be done again whenever model parameters are changed\n",
      "glafic.model_init(verb = 0)\n",
      "\n",
      "glafic.writelens(1.0)\n",
      "\n",
      "glafic.quit()\n"
     ]
    }
   ],
   "source": [
    "import re\n",
    "\n",
    "\n",
    "# Read the existing file contents\n",
    "with open('write_lens.py', 'r') as f:\n",
    "    lines = f.readlines()\n",
    "\n",
    "num_lens_profiles = len(df)\n",
    "lens_name = ('Write Lens' + '/' + model_ver).strip(\"'\\\"\")\n",
    "print(f\"Processing for {num_lens_profiles} lens profiles. Final state will be determined by this number.\")\n",
    "\n",
    "new_lines = []\n",
    "# --- State variables to check if the lines exist at all ---\n",
    "found_set_lens_4 = False\n",
    "found_setopt_4 = False\n",
    "last_lens_line_index = -1\n",
    "\n",
    "for line in lines:\n",
    "    # We use 'continue' to ensure each line is handled by only one block\n",
    "    # and to prevent it from falling through to the 'else' at the end.\n",
    "\n",
    "    # --- BLOCK 1: Handles all `glafic.set_lens(4)` cases ---\n",
    "    if 'glafic.set_lens(4' in line:\n",
    "        found_set_lens_4 = True\n",
    "        if num_lens_profiles > 3:\n",
    "            print(\"State: 4+ lenses. Ensuring 'glafic.set_lens(4)' is active and correct.\")\n",
    "            idx = 3 # This is the 4th lens\n",
    "            lens_row = df.iloc[idx]\n",
    "            model_name = str(lens_row[\"Lens Name\"]).strip(\"'\\\"\")\n",
    "            lens_str = f'glafic.set_lens({idx+1}, \"{model_name}\", 0.261343256161012'\n",
    "            for p in range(1, 8):\n",
    "                lens_str += f', {lens_row[f\"param{p}\"]}'\n",
    "            lens_str += ')\\n'\n",
    "            new_lines.append(lens_str)\n",
    "        else:\n",
    "            print(\"State: <=3 lenses. Ensuring 'glafic.set_lens(4)' is a commented placeholder.\")\n",
    "            new_lines.append('# glafic.set_lens(4)\\n')\n",
    "        last_lens_line_index = len(new_lines) - 1\n",
    "        continue\n",
    "\n",
    "    # --- BLOCK 2: Handles all `glafic.setopt_lens(4)` cases ---\n",
    "    elif 'glafic.setopt_lens(4' in line:\n",
    "        found_setopt_4 = True\n",
    "        if num_lens_profiles > 3:\n",
    "            print(\"State: 4+ lenses. Ensuring 'glafic.setopt_lens(4)' is active.\")\n",
    "            new_lines.append('glafic.setopt_lens(4, 0, 0, 0, 0, 0, 0, 0, 0)\\n')\n",
    "        else:\n",
    "            print(\"State: <=3 lenses. Ensuring 'glafic.setopt_lens(4)' is a commented placeholder.\")\n",
    "            new_lines.append('# glafic.setopt_lens(4, 0, 0, 0, 0, 0, 0, 0, 0)\\n')\n",
    "        last_lens_line_index = len(new_lines) - 1\n",
    "        continue\n",
    "\n",
    "    # --- BLOCK 3: Handles general `glafic.set_lens` lines (1, 2, 3) ---\n",
    "    elif 'glafic.set_lens(' in line:\n",
    "        m = re.search(r'glafic\\.set_lens\\((\\d+)', line)\n",
    "        if m:\n",
    "            idx = int(m.group(1)) - 1\n",
    "            if idx < num_lens_profiles:\n",
    "                lens_row = df.iloc[idx]\n",
    "                model_name = str(lens_row[\"Lens Name\"]).strip(\"'\\\"\")\n",
    "                lens_str = f'glafic.set_lens({idx+1}, \"{model_name}\", 0.261343256161012'\n",
    "                for p in range(1, 8):\n",
    "                    lens_str += f', {lens_row[f\"param{p}\"]}'\n",
    "                lens_str += ')\\n'\n",
    "                print(f'Found and replaced glafic.set_lens({idx+1})')\n",
    "                line = lens_str\n",
    "        new_lines.append(line)\n",
    "        last_lens_line_index = len(new_lines) - 1\n",
    "        continue\n",
    "\n",
    "    # --- FIXED BLOCK for glafic.set_point ---\n",
    "    elif 'glafic.set_point(' in line:\n",
    "        # Use a regular expression to safely capture the existing point ID\n",
    "        m = re.search(r'glafic\\.set_point\\((\\d+)', line)\n",
    "        if m:\n",
    "            point_id = int(m.group(1))\n",
    "            # Reconstruct the line, preserving the original ID and using the correct values.\n",
    "            # Assuming set_point_values = [val1, val2, val3]\n",
    "            line = f'glafic.set_point({point_id}, 1.000, {set_point_values[1]}, {set_point_values[2]})\\n'\n",
    "            print(f\"Found and replaced glafic.set_point({point_id})\")\n",
    "        \n",
    "        new_lines.append(line)\n",
    "        # CRITICAL: Add continue to prevent the line from being duplicated by the final 'else'\n",
    "        continue\n",
    "    \n",
    "    # --- Other standard replacements ---\n",
    "    elif 'glafic.startup_setnum(' in line:\n",
    "        new_lines.append(f\"glafic.startup_setnum({num_lens_profiles}, 0, 1)\\n\")\n",
    "    elif 'glafic.init' in line:\n",
    "        new_lines.append(f\"glafic.init(0.3, 0.7, -1.0, 0.7, '{lens_name}', {xmin}, {ymin}, {xmax}, {ymax}, 0.0012, 0.0012, 1, verb = 0)\\n\")\n",
    "    else:\n",
    "        # If none of the above match, add the line as is\n",
    "        new_lines.append(line)\n",
    "\n",
    "# --- After the loop, perform the self-healing check to add missing lines ---\n",
    "if last_lens_line_index != -1:\n",
    "    set_lens_4_placeholder = '# glafic.set_lens(4)\\n'\n",
    "    setopt_lens_4_placeholder = '# glafic.setopt_lens(4, 0, 0, 0, 0, 0, 0, 0, 0)\\n'\n",
    "    \n",
    "    # We insert in reverse order to maintain correct positioning relative to the insertion point.\n",
    "    if not found_setopt_4 and num_lens_profiles <= 3:\n",
    "        print('Placeholder for \"setopt_lens(4)\" was missing entirely. Adding it back.')\n",
    "        new_lines.insert(last_lens_line_index + 1, setopt_lens_4_placeholder)\n",
    "\n",
    "    if not found_set_lens_4 and num_lens_profiles <= 3:\n",
    "        print('Placeholder for \"set_lens(4)\" was missing entirely. Adding it back.')\n",
    "        new_lines.insert(last_lens_line_index + 1, set_lens_4_placeholder)\n",
    "\n",
    "# Write back once\n",
    "with open('write_lens.py', 'w') as glafic_file:\n",
    "    glafic_file.writelines(new_lines)\n",
    "\n",
    "# --- Optional: Print the output file to verify ---\n",
    "print(\"\\n--- Content of updated write_lens.py ---\")\n",
    "with open('write_lens.py', 'r') as f:\n",
    "    print(f.read())"
   ]
  }
 ],
 "metadata": {
  "kernelspec": {
   "display_name": "Python 3",
   "language": "python",
   "name": "python3"
  },
  "language_info": {
   "codemirror_mode": {
    "name": "ipython",
    "version": 3
   },
   "file_extension": ".py",
   "mimetype": "text/x-python",
   "name": "python",
   "nbconvert_exporter": "python",
   "pygments_lexer": "ipython3",
   "version": "3.11.5"
  }
 },
 "nbformat": 4,
 "nbformat_minor": 5
}
